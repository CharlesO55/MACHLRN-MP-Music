{
 "cells": [
  {
   "cell_type": "markdown",
   "id": "c7b96aa8-def6-4ad4-9fb3-e5beac27ee07",
   "metadata": {},
   "source": [
    "# Neural Network\n",
    "\n",
    "The last model we have chosen was Neural Networks\n",
    "\n",
    "The reason why we used this model is because since the data set is composed of several features, this model can handle complex relationships between the different features."
   ]
  },
  {
   "cell_type": "markdown",
   "id": "4087f6bc-f1db-4799-bd68-8ce9266d7277",
   "metadata": {},
   "source": [
    "# Libraries\n",
    "\n",
    "Import matplotlib, csv, numpy, and torch."
   ]
  },
  {
   "cell_type": "code",
   "execution_count": 1,
   "id": "2d292c80-f64a-42ac-b739-481a657df300",
   "metadata": {},
   "outputs": [],
   "source": [
    "from DataLoader import DataLoader\n",
    "from neural_network import NeuralNetwork\n",
    "\n",
    "from sklearn.model_selection import train_test_split\n",
    "from sklearn.model_selection import RandomizedSearchCV\n",
    "\n",
    "import matplotlib.pyplot as plt\n",
    "import torch.optim as optim\n",
    "import torch.nn as nn\n",
    "import numpy as np\n",
    "import torch\n",
    "import csv\n",
    "import math\n",
    "\n",
    "from sklearn.metrics import precision_score\n",
    "\n",
    "\n",
    "%matplotlib inline\n",
    "\n",
    "# set default size of plots\n",
    "plt.rcParams['figure.figsize'] = (8.0, 8.0)\n",
    "plt.rcParams['image.interpolation'] = 'nearest'\n",
    "\n",
    "torch.manual_seed(0)\n",
    "\n",
    "\n",
    "%load_ext autoreload\n",
    "%autoreload 2"
   ]
  },
  {
   "cell_type": "markdown",
   "id": "f7ca5528-4f64-43b8-8ce0-faa67ad9fd68",
   "metadata": {},
   "source": [
    "### Metric\n",
    "\n",
    "The metric we will be using is the `precision_score`, since we are mostly just interested in how well the model performs in making predictions.\n",
    "\n",
    "Gauging the actual Positive/Negative is not as important as precision is a metric that isolates the performance of positive  predictions created by the model. It focuses more on the ratio of correctly predicted positive instances to the total predicted positive instances."
   ]
  },
  {
   "cell_type": "code",
   "execution_count": 2,
   "id": "68d1b14f",
   "metadata": {},
   "outputs": [],
   "source": [
    "def get_Score(model, X_train, X_test, y_train, y_test, verbose = 1):\n",
    "    \n",
    "    #Retrieve the precision score of test & train via sklearn's precision_score\n",
    "    precision_train = precision_score(model.predict(X_train), y_train, average=None)\n",
    "    precision_test = precision_score(model.predict(X_test), y_test, average=None)\n",
    "    \n",
    "    #Graph the scores using the graph_Score function if verbose is set to TRUE\n",
    "    if verbose:\n",
    "        graph_Scores((precision_train, precision_test))\n",
    "        \n",
    "        print(f\"Train Avg Precision : {precision_train.mean():.4f}\")\n",
    "        print(f\"Test Avg Precision : {precision_test.mean():.4f}\")\n",
    "        \n",
    "    return precision_train, precision_test"
   ]
  },
  {
   "cell_type": "markdown",
   "id": "d5867334",
   "metadata": {},
   "source": [
    "## Feature Set up & Splits"
   ]
  },
  {
   "cell_type": "markdown",
   "id": "637bc5ef",
   "metadata": {},
   "source": [
    "### Music Dataset\n",
    "We will use the music dataset as out dataset. Each instance represents distinct features with the song:\n",
    "- `Artist Name`       - Name of artist\n",
    "- `Track Name`        - Name of song\n",
    "- `Popularity`        - a value between 0 and 100, with 100 being the most popular\n",
    "- `danceability`      - describes how suitable a track is for dancing\n",
    "- `energy`            - perceptual measure of intensity and activity\n",
    "- `key`               - The key the track is in\n",
    "- `loudness`          - The overall loudness of a track in decibels (dB)\n",
    "- `mode`              - indicates the modality (major or minor) of a track\n",
    "- `speechiness`       - detects the presence of spoken words in a track\n",
    "- `acousticness`      - A measure for whether the track is acoustic\n",
    "- `instrumentalness`  - Predicts whether a track contains no vocals\n",
    "- `liveness`          - Detects the presence of an audience in the recording\n",
    "- `valence`           - Describes the musical positiveness conveyed by a track\n",
    "- `tempo`             - The overall estimated tempo of a track in beats per minute (BPM)\n",
    "- `duration_inmin/ms` - Duration in ms\n",
    "- `time_signature`    - Specifies how many beats are in each bar (or measure)\n",
    "\n",
    "The songs can be divided into 11 different genres. Upon searching the different songs of the same classes in Google, I as able to determine the 11 classes.\n",
    "- `Pop`        - class 0\n",
    "- `Hip-hop`    - class 1\n",
    "- `Blues`      - class 2\n",
    "- `Indian-pop` - class 3\n",
    "- `Country`    - class 4\n",
    "- `Rap`        - class 5\n",
    "- `Rock`       - class 6\n",
    "- `Ambient`    - class 7\n",
    "- `Metal`      - class 8\n",
    "- `R&B`        - class 9\n",
    "- `Indie`      - class 10\n"
   ]
  },
  {
   "cell_type": "markdown",
   "id": "945e55c1",
   "metadata": {},
   "source": [
    "### Dataset"
   ]
  },
  {
   "cell_type": "code",
   "execution_count": 3,
   "id": "0d784e66",
   "metadata": {},
   "outputs": [
    {
     "data": {
      "text/html": [
       "<div>\n",
       "<style scoped>\n",
       "    .dataframe tbody tr th:only-of-type {\n",
       "        vertical-align: middle;\n",
       "    }\n",
       "\n",
       "    .dataframe tbody tr th {\n",
       "        vertical-align: top;\n",
       "    }\n",
       "\n",
       "    .dataframe thead th {\n",
       "        text-align: right;\n",
       "    }\n",
       "</style>\n",
       "<table border=\"1\" class=\"dataframe\">\n",
       "  <thead>\n",
       "    <tr style=\"text-align: right;\">\n",
       "      <th></th>\n",
       "      <th>Popularity</th>\n",
       "      <th>danceability</th>\n",
       "      <th>energy</th>\n",
       "      <th>key</th>\n",
       "      <th>loudness</th>\n",
       "      <th>mode</th>\n",
       "      <th>speechiness</th>\n",
       "      <th>acousticness</th>\n",
       "      <th>instrumentalness</th>\n",
       "      <th>liveness</th>\n",
       "      <th>valence</th>\n",
       "      <th>tempo</th>\n",
       "      <th>duration (seconds)</th>\n",
       "      <th>Class</th>\n",
       "    </tr>\n",
       "  </thead>\n",
       "  <tbody>\n",
       "    <tr>\n",
       "      <th>0</th>\n",
       "      <td>60.0</td>\n",
       "      <td>0.854</td>\n",
       "      <td>0.564</td>\n",
       "      <td>1.0</td>\n",
       "      <td>-4.964</td>\n",
       "      <td>1</td>\n",
       "      <td>0.0485</td>\n",
       "      <td>0.017100</td>\n",
       "      <td>0.000090</td>\n",
       "      <td>0.0849</td>\n",
       "      <td>0.8990</td>\n",
       "      <td>134.071</td>\n",
       "      <td>234.596</td>\n",
       "      <td>5</td>\n",
       "    </tr>\n",
       "    <tr>\n",
       "      <th>1</th>\n",
       "      <td>54.0</td>\n",
       "      <td>0.382</td>\n",
       "      <td>0.814</td>\n",
       "      <td>3.0</td>\n",
       "      <td>-7.230</td>\n",
       "      <td>1</td>\n",
       "      <td>0.0406</td>\n",
       "      <td>0.001100</td>\n",
       "      <td>0.004010</td>\n",
       "      <td>0.1010</td>\n",
       "      <td>0.5690</td>\n",
       "      <td>116.454</td>\n",
       "      <td>251.733</td>\n",
       "      <td>10</td>\n",
       "    </tr>\n",
       "    <tr>\n",
       "      <th>2</th>\n",
       "      <td>35.0</td>\n",
       "      <td>0.434</td>\n",
       "      <td>0.614</td>\n",
       "      <td>6.0</td>\n",
       "      <td>-8.334</td>\n",
       "      <td>1</td>\n",
       "      <td>0.0525</td>\n",
       "      <td>0.486000</td>\n",
       "      <td>0.000196</td>\n",
       "      <td>0.3940</td>\n",
       "      <td>0.7870</td>\n",
       "      <td>147.681</td>\n",
       "      <td>109.667</td>\n",
       "      <td>6</td>\n",
       "    </tr>\n",
       "    <tr>\n",
       "      <th>3</th>\n",
       "      <td>66.0</td>\n",
       "      <td>0.853</td>\n",
       "      <td>0.597</td>\n",
       "      <td>10.0</td>\n",
       "      <td>-6.528</td>\n",
       "      <td>0</td>\n",
       "      <td>0.0555</td>\n",
       "      <td>0.021200</td>\n",
       "      <td>0.000090</td>\n",
       "      <td>0.1220</td>\n",
       "      <td>0.5690</td>\n",
       "      <td>107.033</td>\n",
       "      <td>173.968</td>\n",
       "      <td>5</td>\n",
       "    </tr>\n",
       "    <tr>\n",
       "      <th>4</th>\n",
       "      <td>53.0</td>\n",
       "      <td>0.167</td>\n",
       "      <td>0.975</td>\n",
       "      <td>2.0</td>\n",
       "      <td>-4.279</td>\n",
       "      <td>1</td>\n",
       "      <td>0.2160</td>\n",
       "      <td>0.000169</td>\n",
       "      <td>0.016100</td>\n",
       "      <td>0.1720</td>\n",
       "      <td>0.0918</td>\n",
       "      <td>199.060</td>\n",
       "      <td>229.960</td>\n",
       "      <td>10</td>\n",
       "    </tr>\n",
       "    <tr>\n",
       "      <th>...</th>\n",
       "      <td>...</td>\n",
       "      <td>...</td>\n",
       "      <td>...</td>\n",
       "      <td>...</td>\n",
       "      <td>...</td>\n",
       "      <td>...</td>\n",
       "      <td>...</td>\n",
       "      <td>...</td>\n",
       "      <td>...</td>\n",
       "      <td>...</td>\n",
       "      <td>...</td>\n",
       "      <td>...</td>\n",
       "      <td>...</td>\n",
       "      <td>...</td>\n",
       "    </tr>\n",
       "    <tr>\n",
       "      <th>17991</th>\n",
       "      <td>35.0</td>\n",
       "      <td>0.166</td>\n",
       "      <td>0.109</td>\n",
       "      <td>7.0</td>\n",
       "      <td>-17.100</td>\n",
       "      <td>0</td>\n",
       "      <td>0.0413</td>\n",
       "      <td>0.993000</td>\n",
       "      <td>0.824000</td>\n",
       "      <td>0.0984</td>\n",
       "      <td>0.1770</td>\n",
       "      <td>171.587</td>\n",
       "      <td>193.450</td>\n",
       "      <td>6</td>\n",
       "    </tr>\n",
       "    <tr>\n",
       "      <th>17992</th>\n",
       "      <td>27.0</td>\n",
       "      <td>0.638</td>\n",
       "      <td>0.223</td>\n",
       "      <td>11.0</td>\n",
       "      <td>-10.174</td>\n",
       "      <td>0</td>\n",
       "      <td>0.0329</td>\n",
       "      <td>0.858000</td>\n",
       "      <td>0.000016</td>\n",
       "      <td>0.0705</td>\n",
       "      <td>0.3350</td>\n",
       "      <td>73.016</td>\n",
       "      <td>257.067</td>\n",
       "      <td>2</td>\n",
       "    </tr>\n",
       "    <tr>\n",
       "      <th>17993</th>\n",
       "      <td>34.0</td>\n",
       "      <td>0.558</td>\n",
       "      <td>0.981</td>\n",
       "      <td>4.0</td>\n",
       "      <td>-4.683</td>\n",
       "      <td>0</td>\n",
       "      <td>0.0712</td>\n",
       "      <td>0.000030</td>\n",
       "      <td>0.000136</td>\n",
       "      <td>0.6660</td>\n",
       "      <td>0.2620</td>\n",
       "      <td>105.000</td>\n",
       "      <td>216.222</td>\n",
       "      <td>8</td>\n",
       "    </tr>\n",
       "    <tr>\n",
       "      <th>17994</th>\n",
       "      <td>29.0</td>\n",
       "      <td>0.215</td>\n",
       "      <td>0.805</td>\n",
       "      <td>6.0</td>\n",
       "      <td>-12.757</td>\n",
       "      <td>0</td>\n",
       "      <td>0.1340</td>\n",
       "      <td>0.001290</td>\n",
       "      <td>0.916000</td>\n",
       "      <td>0.2560</td>\n",
       "      <td>0.3550</td>\n",
       "      <td>131.363</td>\n",
       "      <td>219.693</td>\n",
       "      <td>8</td>\n",
       "    </tr>\n",
       "    <tr>\n",
       "      <th>17995</th>\n",
       "      <td>43.0</td>\n",
       "      <td>0.400</td>\n",
       "      <td>0.853</td>\n",
       "      <td>4.0</td>\n",
       "      <td>-5.320</td>\n",
       "      <td>0</td>\n",
       "      <td>0.0591</td>\n",
       "      <td>0.006040</td>\n",
       "      <td>0.212000</td>\n",
       "      <td>0.3340</td>\n",
       "      <td>0.3770</td>\n",
       "      <td>138.102</td>\n",
       "      <td>182.227</td>\n",
       "      <td>10</td>\n",
       "    </tr>\n",
       "  </tbody>\n",
       "</table>\n",
       "<p>17996 rows × 14 columns</p>\n",
       "</div>"
      ],
      "text/plain": [
       "       Popularity  danceability  energy   key  loudness  mode  speechiness  \\\n",
       "0            60.0         0.854   0.564   1.0    -4.964     1       0.0485   \n",
       "1            54.0         0.382   0.814   3.0    -7.230     1       0.0406   \n",
       "2            35.0         0.434   0.614   6.0    -8.334     1       0.0525   \n",
       "3            66.0         0.853   0.597  10.0    -6.528     0       0.0555   \n",
       "4            53.0         0.167   0.975   2.0    -4.279     1       0.2160   \n",
       "...           ...           ...     ...   ...       ...   ...          ...   \n",
       "17991        35.0         0.166   0.109   7.0   -17.100     0       0.0413   \n",
       "17992        27.0         0.638   0.223  11.0   -10.174     0       0.0329   \n",
       "17993        34.0         0.558   0.981   4.0    -4.683     0       0.0712   \n",
       "17994        29.0         0.215   0.805   6.0   -12.757     0       0.1340   \n",
       "17995        43.0         0.400   0.853   4.0    -5.320     0       0.0591   \n",
       "\n",
       "       acousticness  instrumentalness  liveness  valence    tempo  \\\n",
       "0          0.017100          0.000090    0.0849   0.8990  134.071   \n",
       "1          0.001100          0.004010    0.1010   0.5690  116.454   \n",
       "2          0.486000          0.000196    0.3940   0.7870  147.681   \n",
       "3          0.021200          0.000090    0.1220   0.5690  107.033   \n",
       "4          0.000169          0.016100    0.1720   0.0918  199.060   \n",
       "...             ...               ...       ...      ...      ...   \n",
       "17991      0.993000          0.824000    0.0984   0.1770  171.587   \n",
       "17992      0.858000          0.000016    0.0705   0.3350   73.016   \n",
       "17993      0.000030          0.000136    0.6660   0.2620  105.000   \n",
       "17994      0.001290          0.916000    0.2560   0.3550  131.363   \n",
       "17995      0.006040          0.212000    0.3340   0.3770  138.102   \n",
       "\n",
       "       duration (seconds)  Class  \n",
       "0                 234.596      5  \n",
       "1                 251.733     10  \n",
       "2                 109.667      6  \n",
       "3                 173.968      5  \n",
       "4                 229.960     10  \n",
       "...                   ...    ...  \n",
       "17991             193.450      6  \n",
       "17992             257.067      2  \n",
       "17993             216.222      8  \n",
       "17994             219.693      8  \n",
       "17995             182.227     10  \n",
       "\n",
       "[17996 rows x 14 columns]"
      ]
     },
     "execution_count": 3,
     "metadata": {},
     "output_type": "execute_result"
    }
   ],
   "source": [
    "df = DataLoader('Dataset 6 - Music Dataset/music.csv', True, True).df['raw']\n",
    "df"
   ]
  },
  {
   "cell_type": "markdown",
   "id": "ed6b30d9",
   "metadata": {},
   "source": [
    "We will make the results reproducible by assigning the `random_state` with a random arbitrary value of **42**."
   ]
  },
  {
   "cell_type": "code",
   "execution_count": 4,
   "id": "be9ac243",
   "metadata": {},
   "outputs": [],
   "source": [
    "random_state = 42"
   ]
  },
  {
   "cell_type": "markdown",
   "id": "55bbca50",
   "metadata": {},
   "source": [
    "# 5.0 Setup the features and splits"
   ]
  },
  {
   "cell_type": "markdown",
   "id": "e0135090",
   "metadata": {},
   "source": [
    "### Getting batches"
   ]
  },
  {
   "cell_type": "code",
   "execution_count": 5,
   "id": "21108f49",
   "metadata": {},
   "outputs": [],
   "source": [
    " def shuffle(indices):\n",
    "        np.random.shuffle(indices)\n",
    "        pass"
   ]
  },
  {
   "cell_type": "code",
   "execution_count": 6,
   "id": "7d68fa78",
   "metadata": {},
   "outputs": [],
   "source": [
    "def get_batch(X, y, batch_size, mode='train'):\n",
    "        X_batch = []\n",
    "        y_batch = []\n",
    "        indices = []\n",
    "        if mode == 'train':\n",
    "            shuffle(np.array([i for i in range(X.shape[0])]))\n",
    "            pass\n",
    "        elif mode == 'test':\n",
    "            indices = np.array([i for i in range(X.shape[0])])\n",
    "\n",
    "        # The loop that will iterate from 0 to the number of instances with\n",
    "        # step equal to batch_size\n",
    "        for i in range(0, len(indices), batch_size):\n",
    "\n",
    "            if i + batch_size <= len(indices):\n",
    "                indices = indices[i:i + batch_size]\n",
    "\n",
    "            else:\n",
    "                indices = indices[i:]\n",
    "\n",
    "            X_batch.append(X[indices])\n",
    "            y_batch.append(y[indices])\n",
    "\n",
    "        return X_batch, y_batch"
   ]
  },
  {
   "cell_type": "code",
   "execution_count": 7,
   "id": "2dc3f820",
   "metadata": {},
   "outputs": [
    {
     "name": "stdout",
     "output_type": "stream",
     "text": [
      "X [(17996, 13)] : Index(['Popularity', 'danceability', 'energy', 'key', 'loudness', 'mode',\n",
      "       'speechiness', 'acousticness', 'instrumentalness', 'liveness',\n",
      "       'valence', 'tempo', 'duration (seconds)'],\n",
      "      dtype='object')\n",
      "y [(17996,)]\n"
     ]
    }
   ],
   "source": [
    "X = df.drop(columns='Class')\n",
    "y = df['Class']\n",
    "\n",
    "print(f'X [{X.shape}] : {X.columns}')\n",
    "print(f'y [{y.shape}]')"
   ]
  },
  {
   "cell_type": "markdown",
   "id": "f7285fff",
   "metadata": {},
   "source": [
    "### Perform train test split\n",
    "Set `test_size` to 0.2 and `stratify` to y to ensure proportional sampling."
   ]
  },
  {
   "cell_type": "code",
   "execution_count": 8,
   "id": "bbd996b3",
   "metadata": {},
   "outputs": [
    {
     "name": "stdout",
     "output_type": "stream",
     "text": [
      "X_train (14396, 13)\n",
      "y_train (14396,)\n",
      "X_test (3600, 13)\n",
      "y_test (3600,)\n"
     ]
    },
    {
     "data": {
      "image/png": "[encoded data removed]",
      "text/plain": [
       "<Figure size 800x800 with 1 Axes>"
      ]
     },
     "metadata": {},
     "output_type": "display_data"
    }
   ],
   "source": [
    "X_train, X_test, y_train, y_test = train_test_split(X, y, test_size=0.2, stratify=y, random_state=random_state)\n",
    "\n",
    "print(f'X_train {X_train.shape}')\n",
    "print(f'y_train {y_train.shape}')\n",
    "print(f'X_test {X_test.shape}')\n",
    "print(f'y_test {y_test.shape}')\n",
    "\n",
    "plt.hist(y_train, label='Train')\n",
    "plt.hist(y_test, label='Test')\n",
    "plt.ylabel('Samples Taken')\n",
    "plt.xlabel('Class / Genre')\n",
    "\n",
    "plt.legend()\n",
    "plt.show()"
   ]
  },
  {
   "cell_type": "markdown",
   "id": "f52df5ca",
   "metadata": {},
   "source": [
    "Convert the DataFrame arrays to torch.Tensor. We use torch.Tensor in PyTorch."
   ]
  },
  {
   "cell_type": "code",
   "execution_count": 9,
   "id": "6ba2c192",
   "metadata": {},
   "outputs": [],
   "source": [
    "# Convert DataFrame to NumPy array\n",
    "X_train = X_train.to_numpy()\n",
    "y_train = y_train.to_numpy()\n",
    "X_test = X_test.to_numpy()\n",
    "y_test = y_test.to_numpy()\n",
    "\n",
    "# Convert NumPy array into torch.Tensor array\n",
    "X_train = torch.Tensor(X_train)\n",
    "y_train = torch.Tensor(y_train)\n",
    "X_test = torch.Tensor(X_test)\n",
    "y_test = torch.Tensor(y_test)"
   ]
  },
  {
   "cell_type": "markdown",
   "id": "8a2ed87f",
   "metadata": {},
   "source": [
    "# 3.1 Neural Network\n",
    "\n",
    "Instantiation of the Neural Network with the following parameters:\n",
    "- `Input` - 13\n",
    "- `Output` - 11\n",
    "- `Hidden layers` - 2\n",
    "- `list_hidden` - (20,10)\n",
    "- `activation` - sigmoid\n",
    "- `Verbose` - 1"
   ]
  },
  {
   "cell_type": "code",
   "execution_count": 10,
   "id": "e1ec13c3",
   "metadata": {},
   "outputs": [
    {
     "name": "stdout",
     "output_type": "stream",
     "text": [
      "Output of layer 0\n",
      "tensor([[  1.4750,  -4.9381,  -1.9366,  ...,  -4.3838,  -2.0967,  -3.2788],\n",
      "        [ 12.1110,  -2.9400,  -3.7264,  ...,  -9.2203, -10.2500,   7.1441],\n",
      "        [  7.3032,  -5.2612,  -2.3449,  ...,  -5.2898,  -6.3347,   2.2049],\n",
      "        ...,\n",
      "        [ 12.0401,  -6.7346,  -4.1461,  ...,  -8.3532, -10.2526,   4.4675],\n",
      "        [ -3.9959,   3.5903,   0.5681,  ...,  -7.9093,   0.7824,  -0.7256],\n",
      "        [  5.7664,  -5.3750,  -1.6031,  ...,  -4.5961,  -5.1824,   2.0783]],\n",
      "       grad_fn=<AddmmBackward0>) \n",
      "\n",
      "Output of layer 1\n",
      "tensor([[8.1381e-01, 7.1172e-03, 1.2602e-01,  ..., 1.2324e-02, 1.0942e-01,\n",
      "         3.6306e-02],\n",
      "        [9.9999e-01, 5.0209e-02, 2.3512e-02,  ..., 9.9003e-05, 3.5355e-05,\n",
      "         9.9921e-01],\n",
      "        [9.9933e-01, 5.1620e-03, 8.7475e-02,  ..., 5.0174e-03, 1.7706e-03,\n",
      "         9.0069e-01],\n",
      "        ...,\n",
      "        [9.9999e-01, 1.1876e-03, 1.5579e-02,  ..., 2.3558e-04, 3.5264e-05,\n",
      "         9.8865e-01],\n",
      "        [1.8058e-02, 9.7315e-01, 6.3833e-01,  ..., 3.6718e-04, 6.8620e-01,\n",
      "         3.2617e-01],\n",
      "        [9.9688e-01, 4.6095e-03, 1.6755e-01,  ..., 9.9898e-03, 5.5831e-03,\n",
      "         8.8877e-01]], grad_fn=<SigmoidBackward0>) \n",
      "\n",
      "Output of layer 2\n",
      "tensor([[ 0.1223, -0.1491, -0.1148,  ...,  0.1740,  0.0203, -0.0159],\n",
      "        [ 0.1480, -0.2083, -0.2457,  ...,  0.0179, -0.0229, -0.3419],\n",
      "        [ 0.0222, -0.1210, -0.2012,  ...,  0.1577, -0.0246, -0.2626],\n",
      "        ...,\n",
      "        [ 0.0286, -0.1423, -0.1892,  ...,  0.1596, -0.0212, -0.2943],\n",
      "        [ 0.1954, -0.0787, -0.0144,  ...,  0.2394,  0.0177,  0.0865],\n",
      "        [ 0.0290, -0.1189, -0.2116,  ...,  0.1697, -0.0185, -0.2827]],\n",
      "       grad_fn=<AddmmBackward0>) \n",
      "\n",
      "Output of layer 3\n",
      "tensor([[0.5305, 0.4628, 0.4713,  ..., 0.5434, 0.5051, 0.4960],\n",
      "        [0.5369, 0.4481, 0.4389,  ..., 0.5045, 0.4943, 0.4154],\n",
      "        [0.5055, 0.4698, 0.4499,  ..., 0.5393, 0.4939, 0.4347],\n",
      "        ...,\n",
      "        [0.5071, 0.4645, 0.4528,  ..., 0.5398, 0.4947, 0.4269],\n",
      "        [0.5487, 0.4803, 0.4964,  ..., 0.5596, 0.5044, 0.5216],\n",
      "        [0.5072, 0.4703, 0.4473,  ..., 0.5423, 0.4954, 0.4298]],\n",
      "       grad_fn=<SigmoidBackward0>) \n",
      "\n",
      "Output of layer 4\n",
      "tensor([[ 0.0643,  0.3133, -0.0767,  ..., -0.2023,  0.1476,  0.1274],\n",
      "        [ 0.0617,  0.3042, -0.0849,  ..., -0.1812,  0.1578,  0.1066],\n",
      "        [ 0.0643,  0.3099, -0.0802,  ..., -0.1878,  0.1590,  0.1115],\n",
      "        ...,\n",
      "        [ 0.0643,  0.3108, -0.0808,  ..., -0.1873,  0.1603,  0.1104],\n",
      "        [ 0.0635,  0.3127, -0.0741,  ..., -0.2219,  0.1301,  0.1527],\n",
      "        [ 0.0645,  0.3105, -0.0791,  ..., -0.1891,  0.1589,  0.1114]],\n",
      "       grad_fn=<AddmmBackward0>) \n",
      "\n",
      "Output of layer 5\n",
      "tensor([[0.0910, 0.1167, 0.0790,  ..., 0.0697, 0.0989, 0.0969],\n",
      "        [0.0913, 0.1163, 0.0788,  ..., 0.0716, 0.1005, 0.0955],\n",
      "        [0.0914, 0.1169, 0.0791,  ..., 0.0710, 0.1005, 0.0958],\n",
      "        ...,\n",
      "        [0.0914, 0.1169, 0.0791,  ..., 0.0711, 0.1006, 0.0957],\n",
      "        [0.0911, 0.1169, 0.0794,  ..., 0.0685, 0.0974, 0.0996],\n",
      "        [0.0914, 0.1169, 0.0792,  ..., 0.0710, 0.1005, 0.0958]],\n",
      "       grad_fn=<SoftmaxBackward0>) \n",
      "\n"
     ]
    },
    {
     "data": {
      "text/plain": [
       "(tensor([[ 0.0643,  0.3133, -0.0767,  ..., -0.2023,  0.1476,  0.1274],\n",
       "         [ 0.0617,  0.3042, -0.0849,  ..., -0.1812,  0.1578,  0.1066],\n",
       "         [ 0.0643,  0.3099, -0.0802,  ..., -0.1878,  0.1590,  0.1115],\n",
       "         ...,\n",
       "         [ 0.0643,  0.3108, -0.0808,  ..., -0.1873,  0.1603,  0.1104],\n",
       "         [ 0.0635,  0.3127, -0.0741,  ..., -0.2219,  0.1301,  0.1527],\n",
       "         [ 0.0645,  0.3105, -0.0791,  ..., -0.1891,  0.1589,  0.1114]],\n",
       "        grad_fn=<AddmmBackward0>),\n",
       " tensor([[0.0910, 0.1167, 0.0790,  ..., 0.0697, 0.0989, 0.0969],\n",
       "         [0.0913, 0.1163, 0.0788,  ..., 0.0716, 0.1005, 0.0955],\n",
       "         [0.0914, 0.1169, 0.0791,  ..., 0.0710, 0.1005, 0.0958],\n",
       "         ...,\n",
       "         [0.0914, 0.1169, 0.0791,  ..., 0.0711, 0.1006, 0.0957],\n",
       "         [0.0911, 0.1169, 0.0794,  ..., 0.0685, 0.0974, 0.0996],\n",
       "         [0.0914, 0.1169, 0.0792,  ..., 0.0710, 0.1005, 0.0958]],\n",
       "        grad_fn=<SoftmaxBackward0>))"
      ]
     },
     "execution_count": 10,
     "metadata": {},
     "output_type": "execute_result"
    }
   ],
   "source": [
    "network = NeuralNetwork(13, 11, list_hidden=(20, 10))\n",
    "network.create_network()\n",
    "network.init_weights()\n",
    "network.forward(X_train, verbose = True)"
   ]
  },
  {
   "cell_type": "markdown",
   "id": "527fc9e4",
   "metadata": {},
   "source": [
    "### Getting the predictions\n"
   ]
  },
  {
   "cell_type": "code",
   "execution_count": 11,
   "id": "d3d66491",
   "metadata": {},
   "outputs": [],
   "source": [
    "np.random.seed(random_state)\n",
    "random_indices = np.random.randint(X_train.shape[0], \n",
    "                                   size=10)\n",
    "\n",
    "scores, probabilities = network.forward(X_train[random_indices])"
   ]
  },
  {
   "cell_type": "markdown",
   "id": "179779f4",
   "metadata": {},
   "source": [
    "Well use Adam as the optimizer with the following parameters:\n",
    "- `params` - the parameters of the network\n",
    "- `lr` = 0.001"
   ]
  },
  {
   "cell_type": "code",
   "execution_count": 12,
   "id": "a8df762b",
   "metadata": {},
   "outputs": [],
   "source": [
    "optimizer = optim.Adam(network.parameters(), 0.001)\n",
    "target_classes = torch.Tensor(y_train[random_indices]).long()"
   ]
  },
  {
   "cell_type": "code",
   "execution_count": 13,
   "id": "4ecd067a",
   "metadata": {},
   "outputs": [],
   "source": [
    "criterion = nn.CrossEntropyLoss()\n",
    "loss = criterion(scores, target_classes)"
   ]
  },
  {
   "cell_type": "markdown",
   "id": "a25d5eff",
   "metadata": {},
   "source": [
    "Then instantiated a nn.CrossEntropyLoss() object to get the loss."
   ]
  },
  {
   "cell_type": "code",
   "execution_count": 14,
   "id": "bd79acf6",
   "metadata": {},
   "outputs": [],
   "source": [
    "optimizer.zero_grad()\n",
    "loss.backward()\n",
    "optimizer.step()"
   ]
  },
  {
   "cell_type": "markdown",
   "id": "86980079",
   "metadata": {},
   "source": [
    "## Training the network"
   ]
  },
  {
   "cell_type": "code",
   "execution_count": 15,
   "id": "491f8e3f",
   "metadata": {},
   "outputs": [
    {
     "ename": "ZeroDivisionError",
     "evalue": "division by zero",
     "output_type": "error",
     "traceback": [
      "\u001b[1;31m---------------------------------------------------------------------------\u001b[0m",
      "\u001b[1;31mZeroDivisionError\u001b[0m                         Traceback (most recent call last)",
      "Cell \u001b[1;32mIn[15], line 32\u001b[0m\n\u001b[0;32m     28\u001b[0m     optimizer\u001b[38;5;241m.\u001b[39mstep()\n\u001b[0;32m     30\u001b[0m     current_epoch_loss \u001b[38;5;241m+\u001b[39m\u001b[38;5;241m=\u001b[39m loss\u001b[38;5;241m.\u001b[39mitem()\n\u001b[1;32m---> 32\u001b[0m average_loss \u001b[38;5;241m=\u001b[39m current_epoch_loss \u001b[38;5;241m/\u001b[39m \u001b[38;5;28mlen\u001b[39m(X_batch)\n\u001b[0;32m     33\u001b[0m losses\u001b[38;5;241m.\u001b[39mappend(average_loss)\n\u001b[0;32m     35\u001b[0m \u001b[38;5;66;03m# Display the average loss per epoch\u001b[39;00m\n",
      "\u001b[1;31mZeroDivisionError\u001b[0m: division by zero"
     ]
    }
   ],
   "source": [
    "e = 0\n",
    "max_epochs = 100\n",
    "is_converged = False\n",
    "previous_loss = 0\n",
    "losses = []\n",
    "\n",
    "# For each epoch\n",
    "while e < max_epochs and is_converged is not True:\n",
    "    \n",
    "    current_epoch_loss = 0\n",
    "    \n",
    "    # Seperate training set into batches\n",
    "    X_batch, y_batch = get_batch(X_train, y_train, 64, mode='train')\n",
    "    \n",
    "    # For each batch\n",
    "    for X, y in zip(X_batch, y_batch):\n",
    "        X = torch.Tensor(X)\n",
    "        y = torch.Tensor(y).to(torch.long)\n",
    "\n",
    "        optimizer.zero_grad()\n",
    "\n",
    "        scores, probabilities = network.forward(X)\n",
    "        \n",
    "        loss = criterion(scores, y)\n",
    "        \n",
    "        loss.backward()\n",
    "        \n",
    "        optimizer.step()\n",
    "        \n",
    "        current_epoch_loss += loss.item()\n",
    "    \n",
    "    average_loss = current_epoch_loss / len(X_batch)\n",
    "    losses.append(average_loss)\n",
    "    \n",
    "    # Display the average loss per epoch\n",
    "    print('Epoch:', e + 1, '\\tLoss: {:.6f}'.format(average_loss))\n",
    "    \n",
    "    if abs(previous_loss - loss) < 0.00000005:\n",
    "        is_converged = True\n",
    "    else:\n",
    "        previous_loss = loss\n",
    "        e += 1"
   ]
  },
  {
   "cell_type": "markdown",
   "id": "89c6acf5",
   "metadata": {},
   "source": [
    "Visualizing the lost per training epoch. "
   ]
  },
  {
   "cell_type": "code",
   "execution_count": null,
   "id": "0181a750",
   "metadata": {},
   "outputs": [],
   "source": [
    "x_values = [i for i in range(len(losses))]\n",
    "y_values = losses\n",
    "\n",
    "plt.plot(x_values, y_values)\n",
    "plt.xlabel('Epochs')\n",
    "plt.ylabel('Loss')\n",
    "plt.title('Loss for each training epoch')"
   ]
  },
  {
   "cell_type": "markdown",
   "id": "c885a23c",
   "metadata": {},
   "source": [
    "### Trying out the trained network on the test data\n",
    "Setting it to eval mode first to avoid updating the weights."
   ]
  },
  {
   "cell_type": "code",
   "execution_count": null,
   "id": "c61065c4",
   "metadata": {},
   "outputs": [],
   "source": [
    "network.eval()"
   ]
  },
  {
   "cell_type": "markdown",
   "id": "d299c9d4",
   "metadata": {},
   "source": [
    "Then perform forwad propagation on the test data and get the prediction results."
   ]
  },
  {
   "cell_type": "code",
   "execution_count": null,
   "id": "92d49c5d",
   "metadata": {},
   "outputs": [],
   "source": [
    "scores,probalities = network.forward(X_test);\n",
    "predictions = network.predict(X_test)\n",
    "print(\"Predictions: \", predictions)"
   ]
  },
  {
   "cell_type": "markdown",
   "id": "2c93b915",
   "metadata": {},
   "source": [
    "Get the accuracy and precision of the network"
   ]
  },
  {
   "cell_type": "code",
   "execution_count": null,
   "id": "8c7a66da",
   "metadata": {},
   "outputs": [],
   "source": [
    "num_correct = torch.sum(predictions == y_test)\n",
    "accuracy = num_correct/y_test.shape[0]\n",
    "\n",
    "precision = get_Score(network, X_train, X_test, y_train, y_test, verbose = 1)"
   ]
  },
  {
   "cell_type": "code",
   "execution_count": null,
   "id": "4dbe72fd-9140-4ec7-ac1e-678eb4cda33d",
   "metadata": {},
   "outputs": [],
   "source": [
    "# Read the ver of the dataframe you want to use\n",
    "# df = DataLoader('Dataset 6 - Music Dataset/music.csv', True, True).df['raw']"
   ]
  }
 ],
 "metadata": {
  "kernelspec": {
   "display_name": "Python 3 (ipykernel)",
   "language": "python",
   "name": "python3"
  },
  "language_info": {
   "codemirror_mode": {
    "name": "ipython",
    "version": 3
   },
   "file_extension": ".py",
   "mimetype": "text/x-python",
   "name": "python",
   "nbconvert_exporter": "python",
   "pygments_lexer": "ipython3",
   "version": "3.11.7"
  }
 },
 "nbformat": 4,
 "nbformat_minor": 5
}
