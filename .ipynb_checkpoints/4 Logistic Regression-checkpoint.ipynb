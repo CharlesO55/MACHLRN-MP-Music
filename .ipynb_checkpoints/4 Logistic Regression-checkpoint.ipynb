{
 "cells": [
  {
   "cell_type": "markdown",
   "id": "c7b96aa8-def6-4ad4-9fb3-e5beac27ee07",
   "metadata": {},
   "source": [
    "# 4 Multinomial Logistic Regression\n",
    "\n",
    "In this notebook, we will show the second model that was chosen for this dataset - Multinomial Logistic Regression.\n",
    "\n",
    "The primary reason for selecting this machine learning model is for its capability of handling multiclass classifications, such as identifying the genres of music. Moreover, given the this machine learning model provides us an insight of how it perceives features and how it would affect the predicted probabilities of the genres for each music example."
   ]
  },
  {
   "cell_type": "markdown",
   "id": "4087f6bc-f1db-4799-bd68-8ce9266d7277",
   "metadata": {},
   "source": [
    "## Libraries\n",
    "\n",
    "Import **matplotlib**, **numpy**, and **SGDClassifier**.\n",
    "pip install any missing libraries"
   ]
  },
  {
   "cell_type": "code",
   "execution_count": 1,
   "id": "2d292c80-f64a-42ac-b739-481a657df300",
   "metadata": {},
   "outputs": [],
   "source": [
    "from DataLoader import DataLoader\n",
    "\n",
    "import pandas as pd\n",
    "import numpy as np\n",
    "import matplotlib.pyplot as plt\n",
    "\n",
    "# Data Prep\n",
    "from sklearn.model_selection import train_test_split \n",
    "from sklearn.preprocessing import OneHotEncoder\n",
    "\n",
    "#Models\n",
    "from sklearn.linear_model import SGDClassifier\n",
    "\n",
    "# Hyperparameters\n",
    "from sklearn.model_selection import RandomizedSearchCV\n",
    "\n",
    "# Metrics\n",
    "from sklearn.metrics import precision_score\n",
    "from sklearn.metrics import log_loss"
   ]
  },
  {
   "cell_type": "markdown",
   "id": "f7ca5528-4f64-43b8-8ce0-faa67ad9fd68",
   "metadata": {},
   "source": [
    "### Metric\n",
    "\n",
    "The metric we will be using is the `precision_score`, since we are mostly just interested in how well the model performs in making predictions.\n",
    "\n",
    "Gauging the actual Positive/Negative is not as important as precision is a metric that isolates the performance of positive  predictions created by the model. It focuses more on the ratio of correctly predicted positive instances to the total predicted positive instances."
   ]
  },
  {
   "cell_type": "code",
   "execution_count": 2,
   "id": "90d7cd21",
   "metadata": {},
   "outputs": [],
   "source": [
    "def get_Score(model, X_train, X_test, y_train, y_test, verbose = 1):\n",
    "    \n",
    "    #Retrieve the precision score of test & train via sklearn's precision_score\n",
    "    precision_train = precision_score(model.predict(X_train), y_train, average=None)\n",
    "    precision_test = precision_score(model.predict(X_test), y_test, average=None)\n",
    "    \n",
    "    #Graph the scores using the graph_Score function if verbose is set to TRUE\n",
    "    if verbose:\n",
    "        graph_Scores((precision_train, precision_test))\n",
    "        \n",
    "        print(f\"Train Avg Precision : {precision_train.mean():.4f}\")\n",
    "        print(f\"Test Avg Precision : {precision_test.mean():.4f}\")\n",
    "        \n",
    "    return precision_train, precision_test"
   ]
  },
  {
   "cell_type": "markdown",
   "id": "c60cd327",
   "metadata": {},
   "source": [
    "By using `sklearn`'s `precision_score`, we are able to retrieve score data that allows us to gauge how well our model performs."
   ]
  },
  {
   "cell_type": "markdown",
   "id": "9701d875",
   "metadata": {},
   "source": [
    "### Graphs & Plots\n",
    "\n",
    "To visualize how our data looks like, we will use  **matplotlib**, for bar and point graphs.\n"
   ]
  },
  {
   "cell_type": "code",
   "execution_count": 3,
   "id": "759cedd1",
   "metadata": {},
   "outputs": [],
   "source": [
    "def graph_Scores(scores, title='', ranges = None):\n",
    "    #Determines the width of each bar in the graph\n",
    "    width = 0.35\n",
    "\n",
    "    #X-axis positions for the training and test scores\n",
    "    br1 = range(len(scores[0])) if ranges is None else ranges\n",
    "    br2 = [x + width for x in br1] \n",
    "\n",
    "    #Create a histogram to visualize the precision scores for the model\n",
    "    plt.bar(br1, scores[0], width=width, edgecolor='black', label='Train Score')\n",
    "    plt.bar(br2, scores[1], width=width, edgecolor='black', label='Test Score')\n",
    "    plt.title(title)\n",
    "    plt.ylabel('Precision Score')\n",
    "    plt.xlabel('Class / Genre')\n",
    "\n",
    "    #Show integers in the x axis accordingly\n",
    "    plt.xticks(np.arange(0, 11, 1))\n",
    "    \n",
    "    plt.legend()\n",
    "    plt.show()  "
   ]
  },
  {
   "cell_type": "code",
   "execution_count": 4,
   "id": "598bc5c5",
   "metadata": {},
   "outputs": [],
   "source": [
    "def plot_Pred_Bounds(X_train, y_train, X_test, y_test, title = ''):\n",
    "    x_min, x_max = X_train.iloc[:, 0].min() - 1, X_train.iloc[:, 0].max() + 1\n",
    "    y_min, y_max = X_train.iloc[:, 1].min() - 1, X_train.iloc[:, 1].max() + 1\n",
    "    xx, yy = np.meshgrid(np.arange(x_min, x_max, 0.1),\n",
    "                         np.arange(y_min, y_max, 0.1))\n",
    "\n",
    "    X_test_grid = np.c_[xx.ravel(), yy.ravel()]\n",
    "    Z = classifier.predict(X_test_grid)\n",
    "\n",
    "    Z = Z.reshape(xx.shape)\n",
    "    plt.contourf(xx, yy, Z, alpha=0.8)\n",
    "    plt.scatter(X_train.iloc[:, 0], X_train.iloc[:, 1], c=y_train, edgecolors='black')\n",
    "    plt.title(title)\n",
    "    plt.show()"
   ]
  },
  {
   "cell_type": "markdown",
   "id": "44a400cf-2c90-46bc-beb5-194db805756d",
   "metadata": {},
   "source": [
    "### Dataset\n",
    "\n",
    "We will be using the dataset titled: `Dataset 6 - Music Dataset` for our machine learning model."
   ]
  },
  {
   "cell_type": "code",
   "execution_count": 5,
   "id": "4dbe72fd-9140-4ec7-ac1e-678eb4cda33d",
   "metadata": {},
   "outputs": [
    {
     "data": {
      "text/html": [
       "<div>\n",
       "<style scoped>\n",
       "    .dataframe tbody tr th:only-of-type {\n",
       "        vertical-align: middle;\n",
       "    }\n",
       "\n",
       "    .dataframe tbody tr th {\n",
       "        vertical-align: top;\n",
       "    }\n",
       "\n",
       "    .dataframe thead th {\n",
       "        text-align: right;\n",
       "    }\n",
       "</style>\n",
       "<table border=\"1\" class=\"dataframe\">\n",
       "  <thead>\n",
       "    <tr style=\"text-align: right;\">\n",
       "      <th></th>\n",
       "      <th>Popularity</th>\n",
       "      <th>danceability</th>\n",
       "      <th>energy</th>\n",
       "      <th>key</th>\n",
       "      <th>loudness</th>\n",
       "      <th>mode</th>\n",
       "      <th>speechiness</th>\n",
       "      <th>acousticness</th>\n",
       "      <th>instrumentalness</th>\n",
       "      <th>liveness</th>\n",
       "      <th>valence</th>\n",
       "      <th>tempo</th>\n",
       "      <th>duration (seconds)</th>\n",
       "      <th>Class</th>\n",
       "    </tr>\n",
       "  </thead>\n",
       "  <tbody>\n",
       "    <tr>\n",
       "      <th>0</th>\n",
       "      <td>0.898766</td>\n",
       "      <td>1.867915</td>\n",
       "      <td>-0.419671</td>\n",
       "      <td>-1.649846</td>\n",
       "      <td>0.727743</td>\n",
       "      <td>0.755294</td>\n",
       "      <td>-0.373407</td>\n",
       "      <td>-0.740387</td>\n",
       "      <td>-0.492390</td>\n",
       "      <td>-0.698900</td>\n",
       "      <td>1.718614</td>\n",
       "      <td>0.387130</td>\n",
       "      <td>0.302284</td>\n",
       "      <td>5</td>\n",
       "    </tr>\n",
       "    <tr>\n",
       "      <th>1</th>\n",
       "      <td>0.550840</td>\n",
       "      <td>-0.970946</td>\n",
       "      <td>0.642500</td>\n",
       "      <td>-0.987153</td>\n",
       "      <td>0.168104</td>\n",
       "      <td>0.755294</td>\n",
       "      <td>-0.467934</td>\n",
       "      <td>-0.791896</td>\n",
       "      <td>-0.478127</td>\n",
       "      <td>-0.597774</td>\n",
       "      <td>0.344694</td>\n",
       "      <td>-0.208629</td>\n",
       "      <td>0.455312</td>\n",
       "      <td>10</td>\n",
       "    </tr>\n",
       "    <tr>\n",
       "      <th>2</th>\n",
       "      <td>-0.550924</td>\n",
       "      <td>-0.658190</td>\n",
       "      <td>-0.207237</td>\n",
       "      <td>0.006886</td>\n",
       "      <td>-0.104553</td>\n",
       "      <td>0.755294</td>\n",
       "      <td>-0.325545</td>\n",
       "      <td>0.769157</td>\n",
       "      <td>-0.492004</td>\n",
       "      <td>1.242595</td>\n",
       "      <td>1.252314</td>\n",
       "      <td>0.847383</td>\n",
       "      <td>-0.813293</td>\n",
       "      <td>6</td>\n",
       "    </tr>\n",
       "    <tr>\n",
       "      <th>3</th>\n",
       "      <td>1.246691</td>\n",
       "      <td>1.861901</td>\n",
       "      <td>-0.279465</td>\n",
       "      <td>1.332272</td>\n",
       "      <td>0.341479</td>\n",
       "      <td>-1.323988</td>\n",
       "      <td>-0.289648</td>\n",
       "      <td>-0.727188</td>\n",
       "      <td>-0.492390</td>\n",
       "      <td>-0.465870</td>\n",
       "      <td>0.344694</td>\n",
       "      <td>-0.527221</td>\n",
       "      <td>-0.239105</td>\n",
       "      <td>5</td>\n",
       "    </tr>\n",
       "    <tr>\n",
       "      <th>4</th>\n",
       "      <td>0.492853</td>\n",
       "      <td>-2.264071</td>\n",
       "      <td>1.326539</td>\n",
       "      <td>-1.318500</td>\n",
       "      <td>0.896919</td>\n",
       "      <td>0.755294</td>\n",
       "      <td>1.630811</td>\n",
       "      <td>-0.794893</td>\n",
       "      <td>-0.434141</td>\n",
       "      <td>-0.151814</td>\n",
       "      <td>-1.642078</td>\n",
       "      <td>2.584879</td>\n",
       "      <td>0.260886</td>\n",
       "      <td>10</td>\n",
       "    </tr>\n",
       "    <tr>\n",
       "      <th>...</th>\n",
       "      <td>...</td>\n",
       "      <td>...</td>\n",
       "      <td>...</td>\n",
       "      <td>...</td>\n",
       "      <td>...</td>\n",
       "      <td>...</td>\n",
       "      <td>...</td>\n",
       "      <td>...</td>\n",
       "      <td>...</td>\n",
       "      <td>...</td>\n",
       "      <td>...</td>\n",
       "      <td>...</td>\n",
       "      <td>...</td>\n",
       "      <td>...</td>\n",
       "    </tr>\n",
       "    <tr>\n",
       "      <th>17991</th>\n",
       "      <td>-0.550924</td>\n",
       "      <td>-2.270086</td>\n",
       "      <td>-2.352824</td>\n",
       "      <td>0.338233</td>\n",
       "      <td>-2.269512</td>\n",
       "      <td>-1.323988</td>\n",
       "      <td>-0.459558</td>\n",
       "      <td>2.401358</td>\n",
       "      <td>2.505218</td>\n",
       "      <td>-0.614105</td>\n",
       "      <td>-1.287357</td>\n",
       "      <td>1.655818</td>\n",
       "      <td>-0.065137</td>\n",
       "      <td>6</td>\n",
       "    </tr>\n",
       "    <tr>\n",
       "      <th>17992</th>\n",
       "      <td>-1.014825</td>\n",
       "      <td>0.568775</td>\n",
       "      <td>-1.868474</td>\n",
       "      <td>1.663618</td>\n",
       "      <td>-0.558982</td>\n",
       "      <td>-1.323988</td>\n",
       "      <td>-0.560068</td>\n",
       "      <td>1.966748</td>\n",
       "      <td>-0.492658</td>\n",
       "      <td>-0.789348</td>\n",
       "      <td>-0.629541</td>\n",
       "      <td>-1.677582</td>\n",
       "      <td>0.502943</td>\n",
       "      <td>2</td>\n",
       "    </tr>\n",
       "    <tr>\n",
       "      <th>17993</th>\n",
       "      <td>-0.608912</td>\n",
       "      <td>0.087612</td>\n",
       "      <td>1.352031</td>\n",
       "      <td>-0.655807</td>\n",
       "      <td>0.797142</td>\n",
       "      <td>-1.323988</td>\n",
       "      <td>-0.101790</td>\n",
       "      <td>-0.795342</td>\n",
       "      <td>-0.492222</td>\n",
       "      <td>2.951060</td>\n",
       "      <td>-0.933469</td>\n",
       "      <td>-0.595971</td>\n",
       "      <td>0.138210</td>\n",
       "      <td>8</td>\n",
       "    </tr>\n",
       "    <tr>\n",
       "      <th>17994</th>\n",
       "      <td>-0.898849</td>\n",
       "      <td>-1.975373</td>\n",
       "      <td>0.604262</td>\n",
       "      <td>0.006886</td>\n",
       "      <td>-1.196911</td>\n",
       "      <td>-1.323988</td>\n",
       "      <td>0.649642</td>\n",
       "      <td>-0.791285</td>\n",
       "      <td>2.839939</td>\n",
       "      <td>0.375800</td>\n",
       "      <td>-0.546273</td>\n",
       "      <td>0.295553</td>\n",
       "      <td>0.169205</td>\n",
       "      <td>8</td>\n",
       "    </tr>\n",
       "    <tr>\n",
       "      <th>17995</th>\n",
       "      <td>-0.087023</td>\n",
       "      <td>-0.862684</td>\n",
       "      <td>0.808199</td>\n",
       "      <td>-0.655807</td>\n",
       "      <td>0.639821</td>\n",
       "      <td>-1.323988</td>\n",
       "      <td>-0.246573</td>\n",
       "      <td>-0.775993</td>\n",
       "      <td>0.278597</td>\n",
       "      <td>0.865728</td>\n",
       "      <td>-0.454678</td>\n",
       "      <td>0.523447</td>\n",
       "      <td>-0.165355</td>\n",
       "      <td>10</td>\n",
       "    </tr>\n",
       "  </tbody>\n",
       "</table>\n",
       "<p>17996 rows × 14 columns</p>\n",
       "</div>"
      ],
      "text/plain": [
       "       Popularity  danceability    energy       key  loudness      mode  \\\n",
       "0        0.898766      1.867915 -0.419671 -1.649846  0.727743  0.755294   \n",
       "1        0.550840     -0.970946  0.642500 -0.987153  0.168104  0.755294   \n",
       "2       -0.550924     -0.658190 -0.207237  0.006886 -0.104553  0.755294   \n",
       "3        1.246691      1.861901 -0.279465  1.332272  0.341479 -1.323988   \n",
       "4        0.492853     -2.264071  1.326539 -1.318500  0.896919  0.755294   \n",
       "...           ...           ...       ...       ...       ...       ...   \n",
       "17991   -0.550924     -2.270086 -2.352824  0.338233 -2.269512 -1.323988   \n",
       "17992   -1.014825      0.568775 -1.868474  1.663618 -0.558982 -1.323988   \n",
       "17993   -0.608912      0.087612  1.352031 -0.655807  0.797142 -1.323988   \n",
       "17994   -0.898849     -1.975373  0.604262  0.006886 -1.196911 -1.323988   \n",
       "17995   -0.087023     -0.862684  0.808199 -0.655807  0.639821 -1.323988   \n",
       "\n",
       "       speechiness  acousticness  instrumentalness  liveness   valence  \\\n",
       "0        -0.373407     -0.740387         -0.492390 -0.698900  1.718614   \n",
       "1        -0.467934     -0.791896         -0.478127 -0.597774  0.344694   \n",
       "2        -0.325545      0.769157         -0.492004  1.242595  1.252314   \n",
       "3        -0.289648     -0.727188         -0.492390 -0.465870  0.344694   \n",
       "4         1.630811     -0.794893         -0.434141 -0.151814 -1.642078   \n",
       "...            ...           ...               ...       ...       ...   \n",
       "17991    -0.459558      2.401358          2.505218 -0.614105 -1.287357   \n",
       "17992    -0.560068      1.966748         -0.492658 -0.789348 -0.629541   \n",
       "17993    -0.101790     -0.795342         -0.492222  2.951060 -0.933469   \n",
       "17994     0.649642     -0.791285          2.839939  0.375800 -0.546273   \n",
       "17995    -0.246573     -0.775993          0.278597  0.865728 -0.454678   \n",
       "\n",
       "          tempo  duration (seconds)  Class  \n",
       "0      0.387130            0.302284      5  \n",
       "1     -0.208629            0.455312     10  \n",
       "2      0.847383           -0.813293      6  \n",
       "3     -0.527221           -0.239105      5  \n",
       "4      2.584879            0.260886     10  \n",
       "...         ...                 ...    ...  \n",
       "17991  1.655818           -0.065137      6  \n",
       "17992 -1.677582            0.502943      2  \n",
       "17993 -0.595971            0.138210      8  \n",
       "17994  0.295553            0.169205      8  \n",
       "17995  0.523447           -0.165355     10  \n",
       "\n",
       "[17996 rows x 14 columns]"
      ]
     },
     "execution_count": 5,
     "metadata": {},
     "output_type": "execute_result"
    }
   ],
   "source": [
    "# Read the ver of the dataframe you want to use\n",
    "df = DataLoader('Dataset 6 - Music Dataset/music.csv', True, True).df['standardize']\n",
    "df"
   ]
  },
  {
   "cell_type": "markdown",
   "id": "32784838",
   "metadata": {},
   "source": [
    "We will make the results reproducible by assigning the `random_state` with a random arbitrary value of **42**."
   ]
  },
  {
   "cell_type": "code",
   "execution_count": 6,
   "id": "171db11d",
   "metadata": {},
   "outputs": [],
   "source": [
    "random_state = 42"
   ]
  },
  {
   "cell_type": "markdown",
   "id": "a1b12728",
   "metadata": {},
   "source": [
    "## 4.0 Feature Setup & Splits"
   ]
  },
  {
   "cell_type": "code",
   "execution_count": 7,
   "id": "87bb0edf",
   "metadata": {},
   "outputs": [
    {
     "name": "stdout",
     "output_type": "stream",
     "text": [
      "X [(17996, 13)] : Index(['Popularity', 'danceability', 'energy', 'key', 'loudness', 'mode',\n",
      "       'speechiness', 'acousticness', 'instrumentalness', 'liveness',\n",
      "       'valence', 'tempo', 'duration (seconds)'],\n",
      "      dtype='object')\n",
      "y [(17996,)]\n"
     ]
    }
   ],
   "source": [
    "X = df.drop(columns='Class')\n",
    "y = df['Class']\n",
    "\n",
    "print(f'X [{X.shape}] : {X.columns}')\n",
    "print(f'y [{y.shape}]')"
   ]
  },
  {
   "cell_type": "markdown",
   "id": "dd9e8fd2",
   "metadata": {},
   "source": [
    "### Categorical columns\n",
    "\n",
    "The `SGDClassifier` from `sklearn` does not accept NaN or string values when training, so categorical columns such as the **Artist Name** and **Track Name** must be dropped or encoded. However, as mentioned in `Notebook 1 - Preprocessing`, One-Hot or Dummy encoding our categorical features would result in a massive number of columns in our dataframe, which is far from ideal. Therefore, we must drop these features for the Logistic Regression Model to accept our dataframe."
   ]
  },
  {
   "cell_type": "markdown",
   "id": "910ff785",
   "metadata": {},
   "source": [
    "To provide a brief example as to what would occur in the dataframe, should we enforce One-Hot or Dummy Encoding, call `Pandas`' `get_dummies` function."
   ]
  },
  {
   "cell_type": "code",
   "execution_count": 8,
   "id": "afff4e25",
   "metadata": {},
   "outputs": [
    {
     "name": "stdout",
     "output_type": "stream",
     "text": [
      "Current Shape : (17996, 24292)\n"
     ]
    },
    {
     "data": {
      "text/html": [
       "<div>\n",
       "<style scoped>\n",
       "    .dataframe tbody tr th:only-of-type {\n",
       "        vertical-align: middle;\n",
       "    }\n",
       "\n",
       "    .dataframe tbody tr th {\n",
       "        vertical-align: top;\n",
       "    }\n",
       "\n",
       "    .dataframe thead th {\n",
       "        text-align: right;\n",
       "    }\n",
       "</style>\n",
       "<table border=\"1\" class=\"dataframe\">\n",
       "  <thead>\n",
       "    <tr style=\"text-align: right;\">\n",
       "      <th></th>\n",
       "      <th>Popularity</th>\n",
       "      <th>danceability</th>\n",
       "      <th>energy</th>\n",
       "      <th>key</th>\n",
       "      <th>loudness</th>\n",
       "      <th>mode</th>\n",
       "      <th>speechiness</th>\n",
       "      <th>acousticness</th>\n",
       "      <th>instrumentalness</th>\n",
       "      <th>liveness</th>\n",
       "      <th>...</th>\n",
       "      <th>Track Name_◊™◊û◊ó◊ú ◊ú◊ô</th>\n",
       "      <th>Track Name_◊™◊û◊ô◊ì</th>\n",
       "      <th>Track Name_◊™◊û◊ô◊ì ◊ñ◊î ◊¢◊õ◊©◊ô◊ï</th>\n",
       "      <th>Track Name_◊™◊û◊ô◊ì ◊ó◊ú◊û◊™◊ô</th>\n",
       "      <th>Track Name_◊™◊†◊í◊ü</th>\n",
       "      <th>Track Name_◊™◊†◊ô ◊ú◊ï ◊ú◊®◊ê◊ï◊™</th>\n",
       "      <th>Track Name_◊™◊†◊ô ◊ú◊ô ◊®◊í◊¢</th>\n",
       "      <th>Track Name_◊™◊†◊ô ◊ú◊ô ◊ô◊ì</th>\n",
       "      <th>Track Name_◊™◊™◊ê◊®◊ï ◊ú◊õ◊ù</th>\n",
       "      <th>Track Name_◊™◊™◊ó◊†◊†◊ô ◊ê◊ú◊ô◊ô</th>\n",
       "    </tr>\n",
       "  </thead>\n",
       "  <tbody>\n",
       "    <tr>\n",
       "      <th>0</th>\n",
       "      <td>60.0</td>\n",
       "      <td>0.854</td>\n",
       "      <td>0.564</td>\n",
       "      <td>1.0</td>\n",
       "      <td>-4.964</td>\n",
       "      <td>1</td>\n",
       "      <td>0.0485</td>\n",
       "      <td>0.017100</td>\n",
       "      <td>0.000090</td>\n",
       "      <td>0.0849</td>\n",
       "      <td>...</td>\n",
       "      <td>False</td>\n",
       "      <td>False</td>\n",
       "      <td>False</td>\n",
       "      <td>False</td>\n",
       "      <td>False</td>\n",
       "      <td>False</td>\n",
       "      <td>False</td>\n",
       "      <td>False</td>\n",
       "      <td>False</td>\n",
       "      <td>False</td>\n",
       "    </tr>\n",
       "    <tr>\n",
       "      <th>1</th>\n",
       "      <td>54.0</td>\n",
       "      <td>0.382</td>\n",
       "      <td>0.814</td>\n",
       "      <td>3.0</td>\n",
       "      <td>-7.230</td>\n",
       "      <td>1</td>\n",
       "      <td>0.0406</td>\n",
       "      <td>0.001100</td>\n",
       "      <td>0.004010</td>\n",
       "      <td>0.1010</td>\n",
       "      <td>...</td>\n",
       "      <td>False</td>\n",
       "      <td>False</td>\n",
       "      <td>False</td>\n",
       "      <td>False</td>\n",
       "      <td>False</td>\n",
       "      <td>False</td>\n",
       "      <td>False</td>\n",
       "      <td>False</td>\n",
       "      <td>False</td>\n",
       "      <td>False</td>\n",
       "    </tr>\n",
       "    <tr>\n",
       "      <th>2</th>\n",
       "      <td>35.0</td>\n",
       "      <td>0.434</td>\n",
       "      <td>0.614</td>\n",
       "      <td>6.0</td>\n",
       "      <td>-8.334</td>\n",
       "      <td>1</td>\n",
       "      <td>0.0525</td>\n",
       "      <td>0.486000</td>\n",
       "      <td>0.000196</td>\n",
       "      <td>0.3940</td>\n",
       "      <td>...</td>\n",
       "      <td>False</td>\n",
       "      <td>False</td>\n",
       "      <td>False</td>\n",
       "      <td>False</td>\n",
       "      <td>False</td>\n",
       "      <td>False</td>\n",
       "      <td>False</td>\n",
       "      <td>False</td>\n",
       "      <td>False</td>\n",
       "      <td>False</td>\n",
       "    </tr>\n",
       "    <tr>\n",
       "      <th>3</th>\n",
       "      <td>66.0</td>\n",
       "      <td>0.853</td>\n",
       "      <td>0.597</td>\n",
       "      <td>10.0</td>\n",
       "      <td>-6.528</td>\n",
       "      <td>0</td>\n",
       "      <td>0.0555</td>\n",
       "      <td>0.021200</td>\n",
       "      <td>0.000090</td>\n",
       "      <td>0.1220</td>\n",
       "      <td>...</td>\n",
       "      <td>False</td>\n",
       "      <td>False</td>\n",
       "      <td>False</td>\n",
       "      <td>False</td>\n",
       "      <td>False</td>\n",
       "      <td>False</td>\n",
       "      <td>False</td>\n",
       "      <td>False</td>\n",
       "      <td>False</td>\n",
       "      <td>False</td>\n",
       "    </tr>\n",
       "    <tr>\n",
       "      <th>4</th>\n",
       "      <td>53.0</td>\n",
       "      <td>0.167</td>\n",
       "      <td>0.975</td>\n",
       "      <td>2.0</td>\n",
       "      <td>-4.279</td>\n",
       "      <td>1</td>\n",
       "      <td>0.2160</td>\n",
       "      <td>0.000169</td>\n",
       "      <td>0.016100</td>\n",
       "      <td>0.1720</td>\n",
       "      <td>...</td>\n",
       "      <td>False</td>\n",
       "      <td>False</td>\n",
       "      <td>False</td>\n",
       "      <td>False</td>\n",
       "      <td>False</td>\n",
       "      <td>False</td>\n",
       "      <td>False</td>\n",
       "      <td>False</td>\n",
       "      <td>False</td>\n",
       "      <td>False</td>\n",
       "    </tr>\n",
       "    <tr>\n",
       "      <th>...</th>\n",
       "      <td>...</td>\n",
       "      <td>...</td>\n",
       "      <td>...</td>\n",
       "      <td>...</td>\n",
       "      <td>...</td>\n",
       "      <td>...</td>\n",
       "      <td>...</td>\n",
       "      <td>...</td>\n",
       "      <td>...</td>\n",
       "      <td>...</td>\n",
       "      <td>...</td>\n",
       "      <td>...</td>\n",
       "      <td>...</td>\n",
       "      <td>...</td>\n",
       "      <td>...</td>\n",
       "      <td>...</td>\n",
       "      <td>...</td>\n",
       "      <td>...</td>\n",
       "      <td>...</td>\n",
       "      <td>...</td>\n",
       "      <td>...</td>\n",
       "    </tr>\n",
       "    <tr>\n",
       "      <th>17991</th>\n",
       "      <td>35.0</td>\n",
       "      <td>0.166</td>\n",
       "      <td>0.109</td>\n",
       "      <td>7.0</td>\n",
       "      <td>-17.100</td>\n",
       "      <td>0</td>\n",
       "      <td>0.0413</td>\n",
       "      <td>0.993000</td>\n",
       "      <td>0.824000</td>\n",
       "      <td>0.0984</td>\n",
       "      <td>...</td>\n",
       "      <td>False</td>\n",
       "      <td>False</td>\n",
       "      <td>False</td>\n",
       "      <td>False</td>\n",
       "      <td>False</td>\n",
       "      <td>False</td>\n",
       "      <td>False</td>\n",
       "      <td>False</td>\n",
       "      <td>False</td>\n",
       "      <td>False</td>\n",
       "    </tr>\n",
       "    <tr>\n",
       "      <th>17992</th>\n",
       "      <td>27.0</td>\n",
       "      <td>0.638</td>\n",
       "      <td>0.223</td>\n",
       "      <td>11.0</td>\n",
       "      <td>-10.174</td>\n",
       "      <td>0</td>\n",
       "      <td>0.0329</td>\n",
       "      <td>0.858000</td>\n",
       "      <td>0.000016</td>\n",
       "      <td>0.0705</td>\n",
       "      <td>...</td>\n",
       "      <td>False</td>\n",
       "      <td>False</td>\n",
       "      <td>False</td>\n",
       "      <td>False</td>\n",
       "      <td>False</td>\n",
       "      <td>False</td>\n",
       "      <td>False</td>\n",
       "      <td>False</td>\n",
       "      <td>False</td>\n",
       "      <td>False</td>\n",
       "    </tr>\n",
       "    <tr>\n",
       "      <th>17993</th>\n",
       "      <td>34.0</td>\n",
       "      <td>0.558</td>\n",
       "      <td>0.981</td>\n",
       "      <td>4.0</td>\n",
       "      <td>-4.683</td>\n",
       "      <td>0</td>\n",
       "      <td>0.0712</td>\n",
       "      <td>0.000030</td>\n",
       "      <td>0.000136</td>\n",
       "      <td>0.6660</td>\n",
       "      <td>...</td>\n",
       "      <td>False</td>\n",
       "      <td>False</td>\n",
       "      <td>False</td>\n",
       "      <td>False</td>\n",
       "      <td>False</td>\n",
       "      <td>False</td>\n",
       "      <td>False</td>\n",
       "      <td>False</td>\n",
       "      <td>False</td>\n",
       "      <td>False</td>\n",
       "    </tr>\n",
       "    <tr>\n",
       "      <th>17994</th>\n",
       "      <td>29.0</td>\n",
       "      <td>0.215</td>\n",
       "      <td>0.805</td>\n",
       "      <td>6.0</td>\n",
       "      <td>-12.757</td>\n",
       "      <td>0</td>\n",
       "      <td>0.1340</td>\n",
       "      <td>0.001290</td>\n",
       "      <td>0.916000</td>\n",
       "      <td>0.2560</td>\n",
       "      <td>...</td>\n",
       "      <td>False</td>\n",
       "      <td>False</td>\n",
       "      <td>False</td>\n",
       "      <td>False</td>\n",
       "      <td>False</td>\n",
       "      <td>False</td>\n",
       "      <td>False</td>\n",
       "      <td>False</td>\n",
       "      <td>False</td>\n",
       "      <td>False</td>\n",
       "    </tr>\n",
       "    <tr>\n",
       "      <th>17995</th>\n",
       "      <td>43.0</td>\n",
       "      <td>0.400</td>\n",
       "      <td>0.853</td>\n",
       "      <td>4.0</td>\n",
       "      <td>-5.320</td>\n",
       "      <td>0</td>\n",
       "      <td>0.0591</td>\n",
       "      <td>0.006040</td>\n",
       "      <td>0.212000</td>\n",
       "      <td>0.3340</td>\n",
       "      <td>...</td>\n",
       "      <td>False</td>\n",
       "      <td>False</td>\n",
       "      <td>False</td>\n",
       "      <td>False</td>\n",
       "      <td>False</td>\n",
       "      <td>False</td>\n",
       "      <td>False</td>\n",
       "      <td>False</td>\n",
       "      <td>False</td>\n",
       "      <td>False</td>\n",
       "    </tr>\n",
       "  </tbody>\n",
       "</table>\n",
       "<p>17996 rows × 24292 columns</p>\n",
       "</div>"
      ],
      "text/plain": [
       "       Popularity  danceability  energy   key  loudness  mode  speechiness  \\\n",
       "0            60.0         0.854   0.564   1.0    -4.964     1       0.0485   \n",
       "1            54.0         0.382   0.814   3.0    -7.230     1       0.0406   \n",
       "2            35.0         0.434   0.614   6.0    -8.334     1       0.0525   \n",
       "3            66.0         0.853   0.597  10.0    -6.528     0       0.0555   \n",
       "4            53.0         0.167   0.975   2.0    -4.279     1       0.2160   \n",
       "...           ...           ...     ...   ...       ...   ...          ...   \n",
       "17991        35.0         0.166   0.109   7.0   -17.100     0       0.0413   \n",
       "17992        27.0         0.638   0.223  11.0   -10.174     0       0.0329   \n",
       "17993        34.0         0.558   0.981   4.0    -4.683     0       0.0712   \n",
       "17994        29.0         0.215   0.805   6.0   -12.757     0       0.1340   \n",
       "17995        43.0         0.400   0.853   4.0    -5.320     0       0.0591   \n",
       "\n",
       "       acousticness  instrumentalness  liveness  ...  \\\n",
       "0          0.017100          0.000090    0.0849  ...   \n",
       "1          0.001100          0.004010    0.1010  ...   \n",
       "2          0.486000          0.000196    0.3940  ...   \n",
       "3          0.021200          0.000090    0.1220  ...   \n",
       "4          0.000169          0.016100    0.1720  ...   \n",
       "...             ...               ...       ...  ...   \n",
       "17991      0.993000          0.824000    0.0984  ...   \n",
       "17992      0.858000          0.000016    0.0705  ...   \n",
       "17993      0.000030          0.000136    0.6660  ...   \n",
       "17994      0.001290          0.916000    0.2560  ...   \n",
       "17995      0.006040          0.212000    0.3340  ...   \n",
       "\n",
       "       Track Name_◊™◊û◊ó◊ú ◊ú◊ô  Track Name_◊™◊û◊ô◊ì  \\\n",
       "0                         False                False   \n",
       "1                         False                False   \n",
       "2                         False                False   \n",
       "3                         False                False   \n",
       "4                         False                False   \n",
       "...                         ...                  ...   \n",
       "17991                     False                False   \n",
       "17992                     False                False   \n",
       "17993                     False                False   \n",
       "17994                     False                False   \n",
       "17995                     False                False   \n",
       "\n",
       "       Track Name_◊™◊û◊ô◊ì ◊ñ◊î ◊¢◊õ◊©◊ô◊ï  Track Name_◊™◊û◊ô◊ì ◊ó◊ú◊û◊™◊ô  \\\n",
       "0                                    False                           False   \n",
       "1                                    False                           False   \n",
       "2                                    False                           False   \n",
       "3                                    False                           False   \n",
       "4                                    False                           False   \n",
       "...                                    ...                             ...   \n",
       "17991                                False                           False   \n",
       "17992                                False                           False   \n",
       "17993                                False                           False   \n",
       "17994                                False                           False   \n",
       "17995                                False                           False   \n",
       "\n",
       "       Track Name_◊™◊†◊í◊ü  Track Name_◊™◊†◊ô ◊ú◊ï ◊ú◊®◊ê◊ï◊™  \\\n",
       "0                    False                              False   \n",
       "1                    False                              False   \n",
       "2                    False                              False   \n",
       "3                    False                              False   \n",
       "4                    False                              False   \n",
       "...                    ...                                ...   \n",
       "17991                False                              False   \n",
       "17992                False                              False   \n",
       "17993                False                              False   \n",
       "17994                False                              False   \n",
       "17995                False                              False   \n",
       "\n",
       "       Track Name_◊™◊†◊ô ◊ú◊ô ◊®◊í◊¢  Track Name_◊™◊†◊ô ◊ú◊ô ◊ô◊ì  \\\n",
       "0                              False                        False   \n",
       "1                              False                        False   \n",
       "2                              False                        False   \n",
       "3                              False                        False   \n",
       "4                              False                        False   \n",
       "...                              ...                          ...   \n",
       "17991                          False                        False   \n",
       "17992                          False                        False   \n",
       "17993                          False                        False   \n",
       "17994                          False                        False   \n",
       "17995                          False                        False   \n",
       "\n",
       "       Track Name_◊™◊™◊ê◊®◊ï ◊ú◊õ◊ù  Track Name_◊™◊™◊ó◊†◊†◊ô ◊ê◊ú◊ô◊ô  \n",
       "0                             False                             False  \n",
       "1                             False                             False  \n",
       "2                             False                             False  \n",
       "3                             False                             False  \n",
       "4                             False                             False  \n",
       "...                             ...                               ...  \n",
       "17991                         False                             False  \n",
       "17992                         False                             False  \n",
       "17993                         False                             False  \n",
       "17994                         False                             False  \n",
       "17995                         False                             False  \n",
       "\n",
       "[17996 rows x 24292 columns]"
      ]
     },
     "execution_count": 8,
     "metadata": {},
     "output_type": "execute_result"
    }
   ],
   "source": [
    "#Retrieve the imputed dataframe\n",
    "sample_df = DataLoader('Dataset 6 - Music Dataset/music.csv', True, True).dict_df['imputed']\n",
    "\n",
    "#Drop the class feature\n",
    "sample_X = sample_df.drop(columns='Class')\n",
    "\n",
    "#List all of the categorical columns\n",
    "categorical_columns = ['Artist Name', 'Track Name']\n",
    "\n",
    "#Perform dummy encoding\n",
    "sample_X = pd.get_dummies(sample_X, columns=categorical_columns)\n",
    "\n",
    "print(f\"Current Shape : {sample_X.shape}\")\n",
    "sample_X"
   ]
  },
  {
   "cell_type": "markdown",
   "id": "fb92b552",
   "metadata": {},
   "source": [
    "From the shape of the dataframe, we can see from the dataframe that the number of columns have significantly increased after performing encoding. This may potentially skew results and cause a higher runtime for the machine learning model as it iterates through each of the new features(columns) that were introduced. Hence, dropping the non-numerical features would be the ideal course of action."
   ]
  },
  {
   "cell_type": "markdown",
   "id": "959ddf5d",
   "metadata": {},
   "source": [
    "### Perform train test split\n",
    "\n",
    "To ensure proportional sampling in our train test split, set the following parameters in `train_test_split`:\n",
    "- Test Size: 0.2\n",
    "- Stratify: 'y'"
   ]
  },
  {
   "cell_type": "code",
   "execution_count": 9,
   "id": "64975db5",
   "metadata": {},
   "outputs": [
    {
     "name": "stdout",
     "output_type": "stream",
     "text": [
      "X_train (14396, 13)\n",
      "y_train (14396,)\n",
      "X_test (3600, 13)\n",
      "y_test (3600,)\n"
     ]
    },
    {
     "data": {
      "image/png": "[encoded data removed]",
      "text/plain": [
       "<Figure size 640x480 with 1 Axes>"
      ]
     },
     "metadata": {},
     "output_type": "display_data"
    }
   ],
   "source": [
    "#Perform the split\n",
    "X_train, X_test, y_train, y_test = train_test_split(X, y, test_size=0.2, stratify=y, random_state=random_state)\n",
    "\n",
    "#Print the shapes of each set\n",
    "print(f'X_train {X_train.shape}')\n",
    "print(f'y_train {y_train.shape}')\n",
    "print(f'X_test {X_test.shape}')\n",
    "print(f'y_test {y_test.shape}')\n",
    "\n",
    "#Create the bars for the histogram\n",
    "plt.hist(y_train, bins=np.arange(0.5, 11.5, 1), rwidth = 0.5, label='Train', edgecolor='black')\n",
    "plt.hist(y_test, bins=np.arange(0.5, 11.5, 1), rwidth = 0.5, label='Test', edgecolor='black')\n",
    "\n",
    "#Show integers in the x axis accordingly\n",
    "plt.xticks(np.arange(0, 11, 1))\n",
    "\n",
    "#Labels\n",
    "plt.ylabel('Samples Taken')\n",
    "plt.xlabel('Class / Genre')\n",
    "\n",
    "plt.legend()\n",
    "plt.show()"
   ]
  },
  {
   "cell_type": "markdown",
   "id": "6bfddb06",
   "metadata": {},
   "source": [
    "As we can see from the histogram, we can compare the distribution of class labels between the training set and the test set. This graph helps in understanding the representativeness of the data in both training and test sets and ensures that both sets have similar distributions of class labels."
   ]
  },
  {
   "cell_type": "markdown",
   "id": "d41176a6",
   "metadata": {},
   "source": [
    "## 4.1 Multinomial Logistic Regression using SGD\n",
    "\n",
    "To perform multinomial logistic regression, we must first take from `sklearn`'s `SGDClassifier` to create a logistic regression model."
   ]
  },
  {
   "cell_type": "markdown",
   "id": "3be90f94",
   "metadata": {},
   "source": [
    "### Instantiating the classifier\n",
    "\n",
    "Lets instantiate an `SGDClassifier` object, setting the following hyperparameters:\n",
    "- Loss function: 'log_loss'\n",
    "- Initial learning rate: 0.005\n",
    "- Learning rate: 'constant'\n",
    "- Random state: random_state\n",
    "- Verbose: 0"
   ]
  },
  {
   "cell_type": "code",
   "execution_count": 10,
   "id": "8f001f22",
   "metadata": {},
   "outputs": [],
   "source": [
    "SGDModel = SGDClassifier(\n",
    "    loss = 'log_loss',\n",
    "    eta0 = 0.005,\n",
    "    learning_rate = 'constant', \n",
    "    random_state = random_state,\n",
    "    verbose = 0)"
   ]
  },
  {
   "cell_type": "markdown",
   "id": "3bf9b8f0",
   "metadata": {},
   "source": [
    "Now that we have our classifier, let us train the model using the `fit` function from `sklearn`."
   ]
  },
  {
   "cell_type": "code",
   "execution_count": 11,
   "id": "72fa5b5f",
   "metadata": {},
   "outputs": [
    {
     "data": {
      "text/html": [
       "<style>#sk-container-id-1 {color: black;background-color: white;}#sk-container-id-1 pre{padding: 0;}#sk-container-id-1 div.sk-toggleable {background-color: white;}#sk-container-id-1 label.sk-toggleable__label {cursor: pointer;display: block;width: 100%;margin-bottom: 0;padding: 0.3em;box-sizing: border-box;text-align: center;}#sk-container-id-1 label.sk-toggleable__label-arrow:before {content: \"▸\";float: left;margin-right: 0.25em;color: #696969;}#sk-container-id-1 label.sk-toggleable__label-arrow:hover:before {color: black;}#sk-container-id-1 div.sk-estimator:hover label.sk-toggleable__label-arrow:before {color: black;}#sk-container-id-1 div.sk-toggleable__content {max-height: 0;max-width: 0;overflow: hidden;text-align: left;background-color: #f0f8ff;}#sk-container-id-1 div.sk-toggleable__content pre {margin: 0.2em;color: black;border-radius: 0.25em;background-color: #f0f8ff;}#sk-container-id-1 input.sk-toggleable__control:checked~div.sk-toggleable__content {max-height: 200px;max-width: 100%;overflow: auto;}#sk-container-id-1 input.sk-toggleable__control:checked~label.sk-toggleable__label-arrow:before {content: \"▾\";}#sk-container-id-1 div.sk-estimator input.sk-toggleable__control:checked~label.sk-toggleable__label {background-color: #d4ebff;}#sk-container-id-1 div.sk-label input.sk-toggleable__control:checked~label.sk-toggleable__label {background-color: #d4ebff;}#sk-container-id-1 input.sk-hidden--visually {border: 0;clip: rect(1px 1px 1px 1px);clip: rect(1px, 1px, 1px, 1px);height: 1px;margin: -1px;overflow: hidden;padding: 0;position: absolute;width: 1px;}#sk-container-id-1 div.sk-estimator {font-family: monospace;background-color: #f0f8ff;border: 1px dotted black;border-radius: 0.25em;box-sizing: border-box;margin-bottom: 0.5em;}#sk-container-id-1 div.sk-estimator:hover {background-color: #d4ebff;}#sk-container-id-1 div.sk-parallel-item::after {content: \"\";width: 100%;border-bottom: 1px solid gray;flex-grow: 1;}#sk-container-id-1 div.sk-label:hover label.sk-toggleable__label {background-color: #d4ebff;}#sk-container-id-1 div.sk-serial::before {content: \"\";position: absolute;border-left: 1px solid gray;box-sizing: border-box;top: 0;bottom: 0;left: 50%;z-index: 0;}#sk-container-id-1 div.sk-serial {display: flex;flex-direction: column;align-items: center;background-color: white;padding-right: 0.2em;padding-left: 0.2em;position: relative;}#sk-container-id-1 div.sk-item {position: relative;z-index: 1;}#sk-container-id-1 div.sk-parallel {display: flex;align-items: stretch;justify-content: center;background-color: white;position: relative;}#sk-container-id-1 div.sk-item::before, #sk-container-id-1 div.sk-parallel-item::before {content: \"\";position: absolute;border-left: 1px solid gray;box-sizing: border-box;top: 0;bottom: 0;left: 50%;z-index: -1;}#sk-container-id-1 div.sk-parallel-item {display: flex;flex-direction: column;z-index: 1;position: relative;background-color: white;}#sk-container-id-1 div.sk-parallel-item:first-child::after {align-self: flex-end;width: 50%;}#sk-container-id-1 div.sk-parallel-item:last-child::after {align-self: flex-start;width: 50%;}#sk-container-id-1 div.sk-parallel-item:only-child::after {width: 0;}#sk-container-id-1 div.sk-dashed-wrapped {border: 1px dashed gray;margin: 0 0.4em 0.5em 0.4em;box-sizing: border-box;padding-bottom: 0.4em;background-color: white;}#sk-container-id-1 div.sk-label label {font-family: monospace;font-weight: bold;display: inline-block;line-height: 1.2em;}#sk-container-id-1 div.sk-label-container {text-align: center;}#sk-container-id-1 div.sk-container {/* jupyter's `normalize.less` sets `[hidden] { display: none; }` but bootstrap.min.css set `[hidden] { display: none !important; }` so we also need the `!important` here to be able to override the default hidden behavior on the sphinx rendered scikit-learn.org. See: https://github.com/scikit-learn/scikit-learn/issues/21755 */display: inline-block !important;position: relative;}#sk-container-id-1 div.sk-text-repr-fallback {display: none;}</style><div id=\"sk-container-id-1\" class=\"sk-top-container\"><div class=\"sk-text-repr-fallback\"><pre>SGDClassifier(eta0=0.005, learning_rate=&#x27;constant&#x27;, loss=&#x27;log_loss&#x27;,\n",
       "              random_state=42)</pre><b>In a Jupyter environment, please rerun this cell to show the HTML representation or trust the notebook. <br />On GitHub, the HTML representation is unable to render, please try loading this page with nbviewer.org.</b></div><div class=\"sk-container\" hidden><div class=\"sk-item\"><div class=\"sk-estimator sk-toggleable\"><input class=\"sk-toggleable__control sk-hidden--visually\" id=\"sk-estimator-id-1\" type=\"checkbox\" checked><label for=\"sk-estimator-id-1\" class=\"sk-toggleable__label sk-toggleable__label-arrow\">SGDClassifier</label><div class=\"sk-toggleable__content\"><pre>SGDClassifier(eta0=0.005, learning_rate=&#x27;constant&#x27;, loss=&#x27;log_loss&#x27;,\n",
       "              random_state=42)</pre></div></div></div></div></div>"
      ],
      "text/plain": [
       "SGDClassifier(eta0=0.005, learning_rate='constant', loss='log_loss',\n",
       "              random_state=42)"
      ]
     },
     "execution_count": 11,
     "metadata": {},
     "output_type": "execute_result"
    }
   ],
   "source": [
    "SGDModel.fit(X_train, y_train)"
   ]
  },
  {
   "cell_type": "markdown",
   "id": "23ed8ac4",
   "metadata": {},
   "source": [
    "After training, we'll use the `get_Score` function that was defined earlier to determine how precise our machine is."
   ]
  },
  {
   "cell_type": "code",
   "execution_count": 12,
   "id": "9f1449df",
   "metadata": {},
   "outputs": [
    {
     "data": {
      "image/png": "[encoded data removed]",
      "text/plain": [
       "<Figure size 640x480 with 1 Axes>"
      ]
     },
     "metadata": {},
     "output_type": "display_data"
    },
    {
     "name": "stdout",
     "output_type": "stream",
     "text": [
      "Train Avg Precision : 0.5057\n",
      "Test Avg Precision : 0.5101\n"
     ]
    }
   ],
   "source": [
    "scores_SGD = get_Score(SGDModel, X_train, X_test, y_train, y_test)"
   ]
  },
  {
   "cell_type": "markdown",
   "id": "782d9223",
   "metadata": {},
   "source": [
    "The histogram shows that our machine learning model demonstrates varying levels of precision among the different genres. Some of the genres are classified with a high precision score, while some would have significantly lower scores. Notably, we can see that the precision scores on the test data would occasionally surpass those on the training data, which suggests potential overfitting. This implies that while the model performs well on the specific training examples, it may not generalize as effectively."
   ]
  },
  {
   "cell_type": "markdown",
   "id": "1a6d3204",
   "metadata": {},
   "source": [
    "## 4.2 Multinomial Logistic Regression using Mini-Batch GD\n",
    "\n",
    "Given that our attempts of performing Stochastic Gradient Descent have yielded below average precision results, we can attempt to train our machine using **Mini-Batch Gradient Descent** for more computational efficiency and stable convergence."
   ]
  },
  {
   "cell_type": "code",
   "execution_count": 13,
   "id": "33356555",
   "metadata": {},
   "outputs": [],
   "source": [
    "from sklearn.linear_model import SGDClassifier #Check why it suddenly needs to be reimported"
   ]
  },
  {
   "cell_type": "code",
   "execution_count": 14,
   "id": "c3b2465e",
   "metadata": {},
   "outputs": [],
   "source": [
    "MBGDModel = SGDClassifier(\n",
    "    loss = 'log_loss',\n",
    "    eta0 = 0.005,\n",
    "    learning_rate = 'constant', \n",
    "    random_state = random_state,\n",
    "    verbose = 0)"
   ]
  },
  {
   "cell_type": "markdown",
   "id": "f04fb3e7",
   "metadata": {},
   "source": [
    "Import the `MiniBatch.py` file containing similar contents to the `data_loader.py` used in other notebooks."
   ]
  },
  {
   "cell_type": "code",
   "execution_count": 15,
   "id": "721c3bd5",
   "metadata": {},
   "outputs": [],
   "source": [
    "from MiniBatch import MiniBatch"
   ]
  },
  {
   "cell_type": "markdown",
   "id": "7e5366da",
   "metadata": {},
   "source": [
    "Given that the `MiniBatch` is centered around using **NumPy Arrays**, we alter the contents of the code to handle `Pandas`' dataframes, replacing direct indexing with `.iloc`."
   ]
  },
  {
   "cell_type": "markdown",
   "id": "52b5e889",
   "metadata": {},
   "source": [
    "Then, instantiate a `MiniBatch` and pass the `X` and `y` train sets, and a `batch_size` of `64` for the parameters."
   ]
  },
  {
   "cell_type": "code",
   "execution_count": 16,
   "id": "cc520c3f",
   "metadata": {},
   "outputs": [],
   "source": [
    "MiniBatch = MiniBatch(X_train, y_train, 64)"
   ]
  },
  {
   "cell_type": "markdown",
   "id": "ce3a1979",
   "metadata": {},
   "source": [
    "Now using **Mini-Batch Gradient Descent**, we will train our model."
   ]
  },
  {
   "cell_type": "code",
   "execution_count": 17,
   "id": "332df57e",
   "metadata": {},
   "outputs": [
    {
     "name": "stdout",
     "output_type": "stream",
     "text": [
      "Epoch: 1 \tLoss: 1.6684512519969268\n",
      "Epoch: 2 \tLoss: 1.473440238833201\n",
      "Epoch: 3 \tLoss: 1.4399041361158962\n",
      "Epoch: 4 \tLoss: 1.4261603133533214\n",
      "Epoch: 5 \tLoss: 1.417819167385269\n",
      "Epoch: 6 \tLoss: 1.412278418960135\n",
      "Epoch: 7 \tLoss: 1.408477709172061\n",
      "Epoch: 8 \tLoss: 1.4058904327731778\n",
      "Epoch: 9 \tLoss: 1.4035378207868883\n",
      "Epoch: 10 \tLoss: 1.4019577262102452\n",
      "Epoch: 11 \tLoss: 1.3991713294978643\n",
      "Epoch: 12 \tLoss: 1.3980933710503065\n",
      "Epoch: 13 \tLoss: 1.3979945277137031\n"
     ]
    }
   ],
   "source": [
    "#Variables\n",
    "epoch        = 0\n",
    "maxEpochs    = 300\n",
    "previousLoss = 0\n",
    "\n",
    "isConverged  = False\n",
    "labels       = np.unique(y_train)\n",
    "\n",
    "while epoch < maxEpochs and isConverged is not True:\n",
    "    loss = 0\n",
    "    \n",
    "    X_batch, y_batch = MiniBatch.get_batch()\n",
    "\n",
    "    for X, y in zip(X_batch, y_batch):\n",
    "        MBGDModel.partial_fit(X, y, classes=labels)\n",
    "        \n",
    "        y_pred = MBGDModel.predict_proba(X_train)\n",
    "        loss += log_loss(y_train, y_pred)\n",
    "        \n",
    "    print('Epoch:', epoch + 1, '\\tLoss:', (loss / len(X_batch)))\n",
    "    \n",
    "    if abs(previousLoss - loss) < 0.05:\n",
    "        isConverged = True\n",
    "    else:\n",
    "        previousLoss = loss\n",
    "        epoch += 1"
   ]
  },
  {
   "cell_type": "markdown",
   "id": "a9bd86b3",
   "metadata": {},
   "source": [
    "We can see that our model has converged in just a few epochs with a significantly low decrease in loss for each. This can be resolved by further hyperparameter tuning to achieve a higher precision score."
   ]
  },
  {
   "cell_type": "markdown",
   "id": "c8ba6684",
   "metadata": {},
   "source": [
    "Lets visualize the precision score after our model was trained via **Mini-Batch Gradient Descent** using the `get_Score` function."
   ]
  },
  {
   "cell_type": "code",
   "execution_count": 18,
   "id": "c3dae42d",
   "metadata": {},
   "outputs": [
    {
     "data": {
      "image/png": "[encoded data removed]",
      "text/plain": [
       "<Figure size 640x480 with 1 Axes>"
      ]
     },
     "metadata": {},
     "output_type": "display_data"
    },
    {
     "name": "stdout",
     "output_type": "stream",
     "text": [
      "Train Avg Precision : 0.4946\n",
      "Test Avg Precision : 0.4992\n"
     ]
    }
   ],
   "source": [
    "scores_MBGD = get_Score(MBGDModel, X_train, X_test, y_train, y_test)"
   ]
  },
  {
   "cell_type": "markdown",
   "id": "c82540b4",
   "metadata": {},
   "source": [
    "Given our precision scores, our model performed somewhat poorer when using **Mini-Batch Gradient Descent** in comparison to using **Stochastic Gradient Descent**. Let us visualize the differences between the two in another histogram."
   ]
  },
  {
   "cell_type": "code",
   "execution_count": 19,
   "id": "ed967b9e",
   "metadata": {},
   "outputs": [
    {
     "data": {
      "image/png": "[encoded data removed]",
      "text/plain": [
       "<Figure size 640x480 with 1 Axes>"
      ]
     },
     "metadata": {},
     "output_type": "display_data"
    }
   ],
   "source": [
    "graph_Scores(np.array(scores_MBGD) - np.array(scores_SGD), 'Scores after using Mini-Batch GD')"
   ]
  },
  {
   "cell_type": "markdown",
   "id": "06d81901",
   "metadata": {},
   "source": [
    "## 4.3 Feature engineering through feature selection\n",
    "\n",
    "To attempt to improve the performance of our model, we will perform `feature selection` to make the model more streamlined and effective by directing its focus only on the features that provide more meaningful or important information for predictions."
   ]
  },
  {
   "cell_type": "markdown",
   "id": "d929a0e9",
   "metadata": {},
   "source": [
    "### Manual feature selection\n",
    "\n",
    "Let us try to gauge the importance of each feature in the dataframe by retrieving the coefficients or weights of each feature in our `SGDModel`. Then graphing these accordingly in a histogram."
   ]
  },
  {
   "cell_type": "code",
   "execution_count": 20,
   "id": "0c713ae5",
   "metadata": {},
   "outputs": [
    {
     "data": {
      "image/png": "[encoded data removed]",
      "text/plain": [
       "<Figure size 640x480 with 1 Axes>"
      ]
     },
     "metadata": {},
     "output_type": "display_data"
    }
   ],
   "source": [
    "# Retrieve the coefficients from our SGD model\n",
    "feature_importance = SGDModel.coef_[0]\n",
    "\n",
    "# Match coefficients with feature names\n",
    "feature_names = X_train.columns\n",
    "feature_importance_dict = dict(zip(feature_names, feature_importance))\n",
    "\n",
    "# Convert the feature importance dictionary to two lists for plotting\n",
    "features = list(feature_importance_dict.keys())\n",
    "importances = list(feature_importance_dict.values())\n",
    "\n",
    "# Find the minimum value of the importances\n",
    "min_importance = min(importances)\n",
    "\n",
    "# Makes the bars start from the minimum importance value\n",
    "adjusted_importances = [importance - min_importance for importance in importances]\n",
    "\n",
    "# Plot the feature importances as a bar chart\n",
    "bars = plt.bar(features, adjusted_importances, width=0.35, edgecolor='black', bottom=min_importance)\n",
    "\n",
    "# Add text labels above each bar\n",
    "for bar, importance in zip(bars, importances):\n",
    "    height = bar.get_height() + min_importance\n",
    "    plt.text(bar.get_x() + bar.get_width() / 2, height, f'{importance:.2f}', ha='center', va='bottom')\n",
    "\n",
    "plt.xlabel('Features')\n",
    "plt.ylabel('Importance')\n",
    "plt.title('Feature Importances from SGDClassifier')\n",
    "plt.xticks(rotation=90)\n",
    "\n",
    "plt.show()"
   ]
  },
  {
   "cell_type": "markdown",
   "id": "e06f611a",
   "metadata": {},
   "source": [
    "As seen from the histogram, the features with the least relevance to our model is `duration(seconds)`, `instrumentalness`, `valence`, and `mode` respectively. We will drop these features and see if it makes a significant difference in comparison to the previous fits using the `SGDClassifier`."
   ]
  },
  {
   "cell_type": "code",
   "execution_count": 21,
   "id": "1e273262",
   "metadata": {},
   "outputs": [
    {
     "data": {
      "text/html": [
       "<style>#sk-container-id-2 {color: black;background-color: white;}#sk-container-id-2 pre{padding: 0;}#sk-container-id-2 div.sk-toggleable {background-color: white;}#sk-container-id-2 label.sk-toggleable__label {cursor: pointer;display: block;width: 100%;margin-bottom: 0;padding: 0.3em;box-sizing: border-box;text-align: center;}#sk-container-id-2 label.sk-toggleable__label-arrow:before {content: \"▸\";float: left;margin-right: 0.25em;color: #696969;}#sk-container-id-2 label.sk-toggleable__label-arrow:hover:before {color: black;}#sk-container-id-2 div.sk-estimator:hover label.sk-toggleable__label-arrow:before {color: black;}#sk-container-id-2 div.sk-toggleable__content {max-height: 0;max-width: 0;overflow: hidden;text-align: left;background-color: #f0f8ff;}#sk-container-id-2 div.sk-toggleable__content pre {margin: 0.2em;color: black;border-radius: 0.25em;background-color: #f0f8ff;}#sk-container-id-2 input.sk-toggleable__control:checked~div.sk-toggleable__content {max-height: 200px;max-width: 100%;overflow: auto;}#sk-container-id-2 input.sk-toggleable__control:checked~label.sk-toggleable__label-arrow:before {content: \"▾\";}#sk-container-id-2 div.sk-estimator input.sk-toggleable__control:checked~label.sk-toggleable__label {background-color: #d4ebff;}#sk-container-id-2 div.sk-label input.sk-toggleable__control:checked~label.sk-toggleable__label {background-color: #d4ebff;}#sk-container-id-2 input.sk-hidden--visually {border: 0;clip: rect(1px 1px 1px 1px);clip: rect(1px, 1px, 1px, 1px);height: 1px;margin: -1px;overflow: hidden;padding: 0;position: absolute;width: 1px;}#sk-container-id-2 div.sk-estimator {font-family: monospace;background-color: #f0f8ff;border: 1px dotted black;border-radius: 0.25em;box-sizing: border-box;margin-bottom: 0.5em;}#sk-container-id-2 div.sk-estimator:hover {background-color: #d4ebff;}#sk-container-id-2 div.sk-parallel-item::after {content: \"\";width: 100%;border-bottom: 1px solid gray;flex-grow: 1;}#sk-container-id-2 div.sk-label:hover label.sk-toggleable__label {background-color: #d4ebff;}#sk-container-id-2 div.sk-serial::before {content: \"\";position: absolute;border-left: 1px solid gray;box-sizing: border-box;top: 0;bottom: 0;left: 50%;z-index: 0;}#sk-container-id-2 div.sk-serial {display: flex;flex-direction: column;align-items: center;background-color: white;padding-right: 0.2em;padding-left: 0.2em;position: relative;}#sk-container-id-2 div.sk-item {position: relative;z-index: 1;}#sk-container-id-2 div.sk-parallel {display: flex;align-items: stretch;justify-content: center;background-color: white;position: relative;}#sk-container-id-2 div.sk-item::before, #sk-container-id-2 div.sk-parallel-item::before {content: \"\";position: absolute;border-left: 1px solid gray;box-sizing: border-box;top: 0;bottom: 0;left: 50%;z-index: -1;}#sk-container-id-2 div.sk-parallel-item {display: flex;flex-direction: column;z-index: 1;position: relative;background-color: white;}#sk-container-id-2 div.sk-parallel-item:first-child::after {align-self: flex-end;width: 50%;}#sk-container-id-2 div.sk-parallel-item:last-child::after {align-self: flex-start;width: 50%;}#sk-container-id-2 div.sk-parallel-item:only-child::after {width: 0;}#sk-container-id-2 div.sk-dashed-wrapped {border: 1px dashed gray;margin: 0 0.4em 0.5em 0.4em;box-sizing: border-box;padding-bottom: 0.4em;background-color: white;}#sk-container-id-2 div.sk-label label {font-family: monospace;font-weight: bold;display: inline-block;line-height: 1.2em;}#sk-container-id-2 div.sk-label-container {text-align: center;}#sk-container-id-2 div.sk-container {/* jupyter's `normalize.less` sets `[hidden] { display: none; }` but bootstrap.min.css set `[hidden] { display: none !important; }` so we also need the `!important` here to be able to override the default hidden behavior on the sphinx rendered scikit-learn.org. See: https://github.com/scikit-learn/scikit-learn/issues/21755 */display: inline-block !important;position: relative;}#sk-container-id-2 div.sk-text-repr-fallback {display: none;}</style><div id=\"sk-container-id-2\" class=\"sk-top-container\"><div class=\"sk-text-repr-fallback\"><pre>SGDClassifier(eta0=0.005, learning_rate=&#x27;constant&#x27;, loss=&#x27;log_loss&#x27;,\n",
       "              random_state=42)</pre><b>In a Jupyter environment, please rerun this cell to show the HTML representation or trust the notebook. <br />On GitHub, the HTML representation is unable to render, please try loading this page with nbviewer.org.</b></div><div class=\"sk-container\" hidden><div class=\"sk-item\"><div class=\"sk-estimator sk-toggleable\"><input class=\"sk-toggleable__control sk-hidden--visually\" id=\"sk-estimator-id-2\" type=\"checkbox\" checked><label for=\"sk-estimator-id-2\" class=\"sk-toggleable__label sk-toggleable__label-arrow\">SGDClassifier</label><div class=\"sk-toggleable__content\"><pre>SGDClassifier(eta0=0.005, learning_rate=&#x27;constant&#x27;, loss=&#x27;log_loss&#x27;,\n",
       "              random_state=42)</pre></div></div></div></div></div>"
      ],
      "text/plain": [
       "SGDClassifier(eta0=0.005, learning_rate='constant', loss='log_loss',\n",
       "              random_state=42)"
      ]
     },
     "execution_count": 21,
     "metadata": {},
     "output_type": "execute_result"
    }
   ],
   "source": [
    "low_imp = X_train.columns.drop(['duration (seconds)', 'instrumentalness', 'valence', 'mode'])\n",
    "\n",
    "#Instantiate another SGDClassifier\n",
    "FS_SGDModel = SGDClassifier(\n",
    "    loss = 'log_loss',\n",
    "    eta0 = 0.005,\n",
    "    learning_rate = 'constant', \n",
    "    random_state = random_state,\n",
    "    verbose = 0)\n",
    "\n",
    "#Train the model only with the low-importance features\n",
    "FS_SGDModel.fit(X_train[low_imp], y_train)"
   ]
  },
  {
   "cell_type": "markdown",
   "id": "2d54e456",
   "metadata": {},
   "source": [
    "Now we compare the precision of our model when using all of its features to using the low-importance features."
   ]
  },
  {
   "cell_type": "code",
   "execution_count": 22,
   "id": "e24b48ff",
   "metadata": {},
   "outputs": [
    {
     "data": {
      "image/png": "[encoded data removed]",
      "text/plain": [
       "<Figure size 640x480 with 1 Axes>"
      ]
     },
     "metadata": {},
     "output_type": "display_data"
    }
   ],
   "source": [
    "#Retrieve the precision score from the low-importance features\n",
    "scores_FS = get_Score(FS_SGDModel, X_train[low_imp], X_test[low_imp], y_train, y_test, verbose = 0)\n",
    "\n",
    "#Graph the score difference between basic SGD and SGD with the low-importance features\n",
    "graph_Scores(np.array(scores_FS) - np.array(scores_SGD), 'Scores difference using low-importance features')"
   ]
  },
  {
   "cell_type": "markdown",
   "id": "849abb4d",
   "metadata": {},
   "source": [
    "As we can see in the histogram, the performance of our model has plumetted from using only the low-importance features, indicating that we may receive more favorable results should we drop them. Let us instantiate another `SGDClassifier` class without using the said features."
   ]
  },
  {
   "cell_type": "code",
   "execution_count": 23,
   "id": "a9cd8f2b",
   "metadata": {},
   "outputs": [
    {
     "data": {
      "text/html": [
       "<style>#sk-container-id-3 {color: black;background-color: white;}#sk-container-id-3 pre{padding: 0;}#sk-container-id-3 div.sk-toggleable {background-color: white;}#sk-container-id-3 label.sk-toggleable__label {cursor: pointer;display: block;width: 100%;margin-bottom: 0;padding: 0.3em;box-sizing: border-box;text-align: center;}#sk-container-id-3 label.sk-toggleable__label-arrow:before {content: \"▸\";float: left;margin-right: 0.25em;color: #696969;}#sk-container-id-3 label.sk-toggleable__label-arrow:hover:before {color: black;}#sk-container-id-3 div.sk-estimator:hover label.sk-toggleable__label-arrow:before {color: black;}#sk-container-id-3 div.sk-toggleable__content {max-height: 0;max-width: 0;overflow: hidden;text-align: left;background-color: #f0f8ff;}#sk-container-id-3 div.sk-toggleable__content pre {margin: 0.2em;color: black;border-radius: 0.25em;background-color: #f0f8ff;}#sk-container-id-3 input.sk-toggleable__control:checked~div.sk-toggleable__content {max-height: 200px;max-width: 100%;overflow: auto;}#sk-container-id-3 input.sk-toggleable__control:checked~label.sk-toggleable__label-arrow:before {content: \"▾\";}#sk-container-id-3 div.sk-estimator input.sk-toggleable__control:checked~label.sk-toggleable__label {background-color: #d4ebff;}#sk-container-id-3 div.sk-label input.sk-toggleable__control:checked~label.sk-toggleable__label {background-color: #d4ebff;}#sk-container-id-3 input.sk-hidden--visually {border: 0;clip: rect(1px 1px 1px 1px);clip: rect(1px, 1px, 1px, 1px);height: 1px;margin: -1px;overflow: hidden;padding: 0;position: absolute;width: 1px;}#sk-container-id-3 div.sk-estimator {font-family: monospace;background-color: #f0f8ff;border: 1px dotted black;border-radius: 0.25em;box-sizing: border-box;margin-bottom: 0.5em;}#sk-container-id-3 div.sk-estimator:hover {background-color: #d4ebff;}#sk-container-id-3 div.sk-parallel-item::after {content: \"\";width: 100%;border-bottom: 1px solid gray;flex-grow: 1;}#sk-container-id-3 div.sk-label:hover label.sk-toggleable__label {background-color: #d4ebff;}#sk-container-id-3 div.sk-serial::before {content: \"\";position: absolute;border-left: 1px solid gray;box-sizing: border-box;top: 0;bottom: 0;left: 50%;z-index: 0;}#sk-container-id-3 div.sk-serial {display: flex;flex-direction: column;align-items: center;background-color: white;padding-right: 0.2em;padding-left: 0.2em;position: relative;}#sk-container-id-3 div.sk-item {position: relative;z-index: 1;}#sk-container-id-3 div.sk-parallel {display: flex;align-items: stretch;justify-content: center;background-color: white;position: relative;}#sk-container-id-3 div.sk-item::before, #sk-container-id-3 div.sk-parallel-item::before {content: \"\";position: absolute;border-left: 1px solid gray;box-sizing: border-box;top: 0;bottom: 0;left: 50%;z-index: -1;}#sk-container-id-3 div.sk-parallel-item {display: flex;flex-direction: column;z-index: 1;position: relative;background-color: white;}#sk-container-id-3 div.sk-parallel-item:first-child::after {align-self: flex-end;width: 50%;}#sk-container-id-3 div.sk-parallel-item:last-child::after {align-self: flex-start;width: 50%;}#sk-container-id-3 div.sk-parallel-item:only-child::after {width: 0;}#sk-container-id-3 div.sk-dashed-wrapped {border: 1px dashed gray;margin: 0 0.4em 0.5em 0.4em;box-sizing: border-box;padding-bottom: 0.4em;background-color: white;}#sk-container-id-3 div.sk-label label {font-family: monospace;font-weight: bold;display: inline-block;line-height: 1.2em;}#sk-container-id-3 div.sk-label-container {text-align: center;}#sk-container-id-3 div.sk-container {/* jupyter's `normalize.less` sets `[hidden] { display: none; }` but bootstrap.min.css set `[hidden] { display: none !important; }` so we also need the `!important` here to be able to override the default hidden behavior on the sphinx rendered scikit-learn.org. See: https://github.com/scikit-learn/scikit-learn/issues/21755 */display: inline-block !important;position: relative;}#sk-container-id-3 div.sk-text-repr-fallback {display: none;}</style><div id=\"sk-container-id-3\" class=\"sk-top-container\"><div class=\"sk-text-repr-fallback\"><pre>SGDClassifier(eta0=0.005, learning_rate=&#x27;constant&#x27;, loss=&#x27;log_loss&#x27;,\n",
       "              random_state=42)</pre><b>In a Jupyter environment, please rerun this cell to show the HTML representation or trust the notebook. <br />On GitHub, the HTML representation is unable to render, please try loading this page with nbviewer.org.</b></div><div class=\"sk-container\" hidden><div class=\"sk-item\"><div class=\"sk-estimator sk-toggleable\"><input class=\"sk-toggleable__control sk-hidden--visually\" id=\"sk-estimator-id-3\" type=\"checkbox\" checked><label for=\"sk-estimator-id-3\" class=\"sk-toggleable__label sk-toggleable__label-arrow\">SGDClassifier</label><div class=\"sk-toggleable__content\"><pre>SGDClassifier(eta0=0.005, learning_rate=&#x27;constant&#x27;, loss=&#x27;log_loss&#x27;,\n",
       "              random_state=42)</pre></div></div></div></div></div>"
      ],
      "text/plain": [
       "SGDClassifier(eta0=0.005, learning_rate='constant', loss='log_loss',\n",
       "              random_state=42)"
      ]
     },
     "execution_count": 23,
     "metadata": {},
     "output_type": "execute_result"
    }
   ],
   "source": [
    "included_ft = X_train.columns.drop([\n",
    "              'Popularity', 'danceability', 'energy', \n",
    "              'key', 'loudness', 'speechiness', \n",
    "              'acousticness', 'liveness', 'tempo'])\n",
    "\n",
    "#Instantiate another SGDClassifier\n",
    "FS_SGDModel = SGDClassifier(\n",
    "    loss = 'log_loss',\n",
    "    eta0 = 0.005,\n",
    "    learning_rate = 'constant', \n",
    "    random_state = random_state,\n",
    "    verbose = 0)\n",
    "\n",
    "#Train the model with the dropped features\n",
    "FS_SGDModel.fit(X_train[included_ft], y_train)"
   ]
  },
  {
   "cell_type": "code",
   "execution_count": 24,
   "id": "b8eed8b8",
   "metadata": {},
   "outputs": [
    {
     "data": {
      "image/png": "[encoded data removed]",
      "text/plain": [
       "<Figure size 640x480 with 1 Axes>"
      ]
     },
     "metadata": {},
     "output_type": "display_data"
    }
   ],
   "source": [
    "#Retrieve the precision score from the low-importance features\n",
    "scores_FS = get_Score(FS_SGDModel, X_train[included_ft], X_test[included_ft], y_train, y_test, verbose = 0)\n",
    "\n",
    "#Graph the score difference between basic SGD and SGD with the low-importance features\n",
    "graph_Scores(np.array(scores_FS) - np.array(scores_SGD), 'Scores difference without low-importance features')"
   ]
  },
  {
   "cell_type": "markdown",
   "id": "1f651297",
   "metadata": {},
   "source": [
    "For our feature selection method, we will use the **Univariate Feature Selection** for simplicity as it is model-independent while being quick and efficient. To perform this, we will use the `SelectKBest` method from `sklearn`selects the top `k` features based on its importance based on statistical testings."
   ]
  },
  {
   "cell_type": "markdown",
   "id": "5824ac42",
   "metadata": {},
   "source": [
    "Import `SelectKBest`, `f_classif`, `make_pipeline` and `StandardScaler`."
   ]
  },
  {
   "cell_type": "code",
   "execution_count": 25,
   "id": "539ebd28",
   "metadata": {},
   "outputs": [],
   "source": [
    "from sklearn.feature_selection import SelectKBest, f_classif\n",
    "from sklearn.pipeline import make_pipeline\n",
    "from sklearn.preprocessing import StandardScaler"
   ]
  },
  {
   "cell_type": "markdown",
   "id": "698cd8f1",
   "metadata": {},
   "source": [
    "Create the pipeline using the `create_pipeline` function for both our **SGDClassifier** and **MBGDClassifier**"
   ]
  },
  {
   "cell_type": "code",
   "execution_count": 26,
   "id": "0e10ae34",
   "metadata": {},
   "outputs": [],
   "source": [
    "SGD_Pipeline = make_pipeline(\n",
    "    StandardScaler(),\n",
    "    SelectKBest(score_func=f_classif, k=10),\n",
    "    SGDClassifier(loss = 'log_loss', eta0 = 0.005, learning_rate = 'constant', random_state = random_state))"
   ]
  },
  {
   "cell_type": "markdown",
   "id": "bb81ce56",
   "metadata": {},
   "source": [
    "Train the models accordingly."
   ]
  },
  {
   "cell_type": "code",
   "execution_count": 27,
   "id": "81cc604a",
   "metadata": {},
   "outputs": [
    {
     "data": {
      "text/html": [
       "<style>#sk-container-id-4 {color: black;background-color: white;}#sk-container-id-4 pre{padding: 0;}#sk-container-id-4 div.sk-toggleable {background-color: white;}#sk-container-id-4 label.sk-toggleable__label {cursor: pointer;display: block;width: 100%;margin-bottom: 0;padding: 0.3em;box-sizing: border-box;text-align: center;}#sk-container-id-4 label.sk-toggleable__label-arrow:before {content: \"▸\";float: left;margin-right: 0.25em;color: #696969;}#sk-container-id-4 label.sk-toggleable__label-arrow:hover:before {color: black;}#sk-container-id-4 div.sk-estimator:hover label.sk-toggleable__label-arrow:before {color: black;}#sk-container-id-4 div.sk-toggleable__content {max-height: 0;max-width: 0;overflow: hidden;text-align: left;background-color: #f0f8ff;}#sk-container-id-4 div.sk-toggleable__content pre {margin: 0.2em;color: black;border-radius: 0.25em;background-color: #f0f8ff;}#sk-container-id-4 input.sk-toggleable__control:checked~div.sk-toggleable__content {max-height: 200px;max-width: 100%;overflow: auto;}#sk-container-id-4 input.sk-toggleable__control:checked~label.sk-toggleable__label-arrow:before {content: \"▾\";}#sk-container-id-4 div.sk-estimator input.sk-toggleable__control:checked~label.sk-toggleable__label {background-color: #d4ebff;}#sk-container-id-4 div.sk-label input.sk-toggleable__control:checked~label.sk-toggleable__label {background-color: #d4ebff;}#sk-container-id-4 input.sk-hidden--visually {border: 0;clip: rect(1px 1px 1px 1px);clip: rect(1px, 1px, 1px, 1px);height: 1px;margin: -1px;overflow: hidden;padding: 0;position: absolute;width: 1px;}#sk-container-id-4 div.sk-estimator {font-family: monospace;background-color: #f0f8ff;border: 1px dotted black;border-radius: 0.25em;box-sizing: border-box;margin-bottom: 0.5em;}#sk-container-id-4 div.sk-estimator:hover {background-color: #d4ebff;}#sk-container-id-4 div.sk-parallel-item::after {content: \"\";width: 100%;border-bottom: 1px solid gray;flex-grow: 1;}#sk-container-id-4 div.sk-label:hover label.sk-toggleable__label {background-color: #d4ebff;}#sk-container-id-4 div.sk-serial::before {content: \"\";position: absolute;border-left: 1px solid gray;box-sizing: border-box;top: 0;bottom: 0;left: 50%;z-index: 0;}#sk-container-id-4 div.sk-serial {display: flex;flex-direction: column;align-items: center;background-color: white;padding-right: 0.2em;padding-left: 0.2em;position: relative;}#sk-container-id-4 div.sk-item {position: relative;z-index: 1;}#sk-container-id-4 div.sk-parallel {display: flex;align-items: stretch;justify-content: center;background-color: white;position: relative;}#sk-container-id-4 div.sk-item::before, #sk-container-id-4 div.sk-parallel-item::before {content: \"\";position: absolute;border-left: 1px solid gray;box-sizing: border-box;top: 0;bottom: 0;left: 50%;z-index: -1;}#sk-container-id-4 div.sk-parallel-item {display: flex;flex-direction: column;z-index: 1;position: relative;background-color: white;}#sk-container-id-4 div.sk-parallel-item:first-child::after {align-self: flex-end;width: 50%;}#sk-container-id-4 div.sk-parallel-item:last-child::after {align-self: flex-start;width: 50%;}#sk-container-id-4 div.sk-parallel-item:only-child::after {width: 0;}#sk-container-id-4 div.sk-dashed-wrapped {border: 1px dashed gray;margin: 0 0.4em 0.5em 0.4em;box-sizing: border-box;padding-bottom: 0.4em;background-color: white;}#sk-container-id-4 div.sk-label label {font-family: monospace;font-weight: bold;display: inline-block;line-height: 1.2em;}#sk-container-id-4 div.sk-label-container {text-align: center;}#sk-container-id-4 div.sk-container {/* jupyter's `normalize.less` sets `[hidden] { display: none; }` but bootstrap.min.css set `[hidden] { display: none !important; }` so we also need the `!important` here to be able to override the default hidden behavior on the sphinx rendered scikit-learn.org. See: https://github.com/scikit-learn/scikit-learn/issues/21755 */display: inline-block !important;position: relative;}#sk-container-id-4 div.sk-text-repr-fallback {display: none;}</style><div id=\"sk-container-id-4\" class=\"sk-top-container\"><div class=\"sk-text-repr-fallback\"><pre>Pipeline(steps=[(&#x27;standardscaler&#x27;, StandardScaler()),\n",
       "                (&#x27;selectkbest&#x27;, SelectKBest()),\n",
       "                (&#x27;sgdclassifier&#x27;,\n",
       "                 SGDClassifier(eta0=0.005, learning_rate=&#x27;constant&#x27;,\n",
       "                               loss=&#x27;log_loss&#x27;, random_state=42))])</pre><b>In a Jupyter environment, please rerun this cell to show the HTML representation or trust the notebook. <br />On GitHub, the HTML representation is unable to render, please try loading this page with nbviewer.org.</b></div><div class=\"sk-container\" hidden><div class=\"sk-item sk-dashed-wrapped\"><div class=\"sk-label-container\"><div class=\"sk-label sk-toggleable\"><input class=\"sk-toggleable__control sk-hidden--visually\" id=\"sk-estimator-id-4\" type=\"checkbox\" ><label for=\"sk-estimator-id-4\" class=\"sk-toggleable__label sk-toggleable__label-arrow\">Pipeline</label><div class=\"sk-toggleable__content\"><pre>Pipeline(steps=[(&#x27;standardscaler&#x27;, StandardScaler()),\n",
       "                (&#x27;selectkbest&#x27;, SelectKBest()),\n",
       "                (&#x27;sgdclassifier&#x27;,\n",
       "                 SGDClassifier(eta0=0.005, learning_rate=&#x27;constant&#x27;,\n",
       "                               loss=&#x27;log_loss&#x27;, random_state=42))])</pre></div></div></div><div class=\"sk-serial\"><div class=\"sk-item\"><div class=\"sk-estimator sk-toggleable\"><input class=\"sk-toggleable__control sk-hidden--visually\" id=\"sk-estimator-id-5\" type=\"checkbox\" ><label for=\"sk-estimator-id-5\" class=\"sk-toggleable__label sk-toggleable__label-arrow\">StandardScaler</label><div class=\"sk-toggleable__content\"><pre>StandardScaler()</pre></div></div></div><div class=\"sk-item\"><div class=\"sk-estimator sk-toggleable\"><input class=\"sk-toggleable__control sk-hidden--visually\" id=\"sk-estimator-id-6\" type=\"checkbox\" ><label for=\"sk-estimator-id-6\" class=\"sk-toggleable__label sk-toggleable__label-arrow\">SelectKBest</label><div class=\"sk-toggleable__content\"><pre>SelectKBest()</pre></div></div></div><div class=\"sk-item\"><div class=\"sk-estimator sk-toggleable\"><input class=\"sk-toggleable__control sk-hidden--visually\" id=\"sk-estimator-id-7\" type=\"checkbox\" ><label for=\"sk-estimator-id-7\" class=\"sk-toggleable__label sk-toggleable__label-arrow\">SGDClassifier</label><div class=\"sk-toggleable__content\"><pre>SGDClassifier(eta0=0.005, learning_rate=&#x27;constant&#x27;, loss=&#x27;log_loss&#x27;,\n",
       "              random_state=42)</pre></div></div></div></div></div></div></div>"
      ],
      "text/plain": [
       "Pipeline(steps=[('standardscaler', StandardScaler()),\n",
       "                ('selectkbest', SelectKBest()),\n",
       "                ('sgdclassifier',\n",
       "                 SGDClassifier(eta0=0.005, learning_rate='constant',\n",
       "                               loss='log_loss', random_state=42))])"
      ]
     },
     "execution_count": 27,
     "metadata": {},
     "output_type": "execute_result"
    }
   ],
   "source": [
    "SGD_Pipeline.fit(X_train, y_train)"
   ]
  },
  {
   "cell_type": "code",
   "execution_count": 28,
   "id": "b7317a8b",
   "metadata": {},
   "outputs": [
    {
     "data": {
      "image/png": "[encoded data removed]",
      "text/plain": [
       "<Figure size 640x480 with 1 Axes>"
      ]
     },
     "metadata": {},
     "output_type": "display_data"
    },
    {
     "name": "stdout",
     "output_type": "stream",
     "text": [
      "Train Avg Precision : 0.4941\n",
      "Test Avg Precision : 0.5033\n"
     ]
    }
   ],
   "source": [
    "score_UFS = get_Score(SGD_Pipeline, X_train, X_test, y_train, y_test)"
   ]
  },
  {
   "cell_type": "markdown",
   "id": "193dde2f",
   "metadata": {},
   "source": [
    "## 4.4 Regularization and hyperparameter tuning"
   ]
  },
  {
   "cell_type": "markdown",
   "id": "e36807ae",
   "metadata": {},
   "source": [
    "## 4.5 Cross Validation"
   ]
  }
 ],
 "metadata": {
  "kernelspec": {
   "display_name": "Python 3 (ipykernel)",
   "language": "python",
   "name": "python3"
  },
  "language_info": {
   "codemirror_mode": {
    "name": "ipython",
    "version": 3
   },
   "file_extension": ".py",
   "mimetype": "text/x-python",
   "name": "python",
   "nbconvert_exporter": "python",
   "pygments_lexer": "ipython3",
   "version": "3.11.7"
  }
 },
 "nbformat": 4,
 "nbformat_minor": 5
}
